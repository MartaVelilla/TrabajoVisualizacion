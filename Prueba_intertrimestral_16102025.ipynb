{
  "cells": [
    {
      "cell_type": "markdown",
      "metadata": {
        "id": "BZHOfP4hO8Vj"
      },
      "source": [
        "# Prueba Intertrimestral\n",
        "\n",
        "**Nombre:**  \n",
        "**Apellidos:**  \n",
        "\n",
        "**Tiempo de la prueba:** 2 horas  \n",
        "**Asignatura:** Desarrollo de Aplicaciones para la Visualización de Datos  \n",
        "**Fecha:** 16 de octubre de 2025  \n",
        "\n",
        "## Instrucciones\n",
        "\n",
        "- Escribe **código limpio y autoexplicativo**.  \n",
        "- Se pueden utilizar **los materiales de clase**.  \n",
        "- Se puede utilizar **internet** para búsqueda de dudas y documentación.  \n",
        "- **No se puede utilizar ningún tipo de LLM** (ChatGPT, Copilot, Gemini, etc.).  \n",
        "- **No se puede utilizar mensajería instantánea**.  \n",
        "- Al finalizar, **sube tu notebook a GitHub** y envía el enlace del fichero en el siguiente formulario:  \n",
        "[https://forms.office.com/e/LFVwu9z6uQ](https://forms.office.com/e/LFVwu9z6uQ)\n",
        "\n",
        "\n",
        "## Dataset “Life Style Data”\n",
        "\n",
        "El dataset contiene información sobre hábitos de vida (alimentación, sueño, ejercicio, consumo de tabaco o alcohol, etc.) y medidas de salud (IMC, presión arterial, etc.) para diferentes individuos.\n",
        "\n",
        "Puedes descargarlo del repositorio de la asignatura y un .txt con la descripción de las variables.\n"
      ]
    },
    {
      "cell_type": "markdown",
      "metadata": {
        "id": "pAyOgtngSm8l"
      },
      "source": [
        "## Inicialización de librerías"
      ]
    },
    {
      "cell_type": "code",
      "execution_count": 71,
      "metadata": {
        "id": "rUSOV34cSmDn"
      },
      "outputs": [],
      "source": [
        "import pandas as pd\n",
        "import numpy as np\n",
        "import sklearn.datasets\n",
        "\n",
        "import matplotlib.pyplot as plt\n",
        "import plotly.express as px\n",
        "import plotly.graph_objects as go\n",
        "\n",
        "from sklearn.metrics import confusion_matrix, ConfusionMatrixDisplay\n",
        "from sklearn.model_selection import train_test_split\n",
        "from sklearn.linear_model import LinearRegression\n",
        "from sklearn.ensemble import RandomForestRegressor\n",
        "from sklearn.metrics import (\n",
        "    r2_score,\n",
        "    mean_absolute_error,\n",
        "    mean_squared_error,\n",
        "    classification_report,\n",
        "    confusion_matrix\n",
        ")\n",
        "\n",
        "from sklearn.linear_model import ElasticNet\n",
        "from sklearn.pipeline import Pipeline\n",
        "from sklearn.preprocessing import StandardScaler\n",
        "from sklearn.linear_model import SGDClassifier, LogisticRegression"
      ]
    },
    {
      "cell_type": "markdown",
      "metadata": {
        "id": "otirxiJrSsEC"
      },
      "source": [
        "# Ejercicio 1 — Programación (2 puntos)\n",
        "\n",
        "a) (0.6 pts) Crea una función imc(weight, height) que devuelva el índice de masa corporal (IMC), redondeado a dos decimales.\n",
        "\n"
      ]
    },
    {
      "cell_type": "code",
      "execution_count": 3,
      "metadata": {
        "id": "3N45WKtkS6-A"
      },
      "outputs": [],
      "source": [
        "def imc (weight, height):\n",
        "    imc = weight/(height**2)\n",
        "    imc_redondeado = round(imc, 2)\n",
        "    return imc_redondeado"
      ]
    },
    {
      "cell_type": "markdown",
      "metadata": {
        "id": "BLBDCknMS7TE"
      },
      "source": [
        "b) (0.6 pts) Crea una función saludable(imcValue) que devuelva \"Saludable\" si el IMC está entre 18.5 y 24.9, \"Bajo peso\" si es menor de 18.5, o \"Sobrepeso\" si es mayor de 24.9."
      ]
    },
    {
      "cell_type": "code",
      "execution_count": 4,
      "metadata": {
        "id": "WDhSuYXLS9Fz"
      },
      "outputs": [],
      "source": [
        "def saludable (imc):\n",
        "    if imc < 18.5:\n",
        "        return \"Bajo peso\"\n",
        "    elif 18.5 <= imc < 24.9:\n",
        "        return \"Normal\"\n",
        "    elif 25 <= imc < 29.9:\n",
        "        return \"Sobrepeso\"\n",
        "    else:\n",
        "        return \"Obesidad\""
      ]
    },
    {
      "cell_type": "markdown",
      "metadata": {
        "id": "KjQkJdhLS9dO"
      },
      "source": [
        "c) (0.6 pts) Genera un DataFrame llamado imcData que contenga al menos 10 registros con las siguientes columnas:\n",
        "\n",
        "\n",
        "*   peso (en kilogramos)\n",
        "\n",
        "*   altura (en metros)\n",
        "\n",
        "*   imc (calculado usando la función imc(weight, height) creada anteriormente)\n",
        "\n",
        "Puedes generar los datos de peso y altura manualmente, mediante listas, o de forma aleatoria utilizando numpy (np.random.uniform o similar).\n",
        "\n",
        "Añade una cuarta columna llamada categoria, cuyos valores provengan de la función saludable(imcValue).\n",
        "\n",
        "Muestra las primeras filas del DataFrame resultante y comprueba que los tipos de datos son correctos."
      ]
    },
    {
      "cell_type": "code",
      "execution_count": 5,
      "metadata": {
        "id": "sN09MzT_TGWv"
      },
      "outputs": [
        {
          "data": {
            "text/html": [
              "<div>\n",
              "<style scoped>\n",
              "    .dataframe tbody tr th:only-of-type {\n",
              "        vertical-align: middle;\n",
              "    }\n",
              "\n",
              "    .dataframe tbody tr th {\n",
              "        vertical-align: top;\n",
              "    }\n",
              "\n",
              "    .dataframe thead th {\n",
              "        text-align: right;\n",
              "    }\n",
              "</style>\n",
              "<table border=\"1\" class=\"dataframe\">\n",
              "  <thead>\n",
              "    <tr style=\"text-align: right;\">\n",
              "      <th></th>\n",
              "      <th>peso</th>\n",
              "      <th>altura</th>\n",
              "      <th>imc</th>\n",
              "      <th>salud</th>\n",
              "    </tr>\n",
              "  </thead>\n",
              "  <tbody>\n",
              "    <tr>\n",
              "      <th>0</th>\n",
              "      <td>40</td>\n",
              "      <td>1.75</td>\n",
              "      <td>13.06</td>\n",
              "      <td>Bajo peso</td>\n",
              "    </tr>\n",
              "    <tr>\n",
              "      <th>1</th>\n",
              "      <td>80</td>\n",
              "      <td>1.80</td>\n",
              "      <td>24.69</td>\n",
              "      <td>Normal</td>\n",
              "    </tr>\n",
              "    <tr>\n",
              "      <th>2</th>\n",
              "      <td>60</td>\n",
              "      <td>1.60</td>\n",
              "      <td>23.44</td>\n",
              "      <td>Normal</td>\n",
              "    </tr>\n",
              "    <tr>\n",
              "      <th>3</th>\n",
              "      <td>90</td>\n",
              "      <td>1.85</td>\n",
              "      <td>26.30</td>\n",
              "      <td>Sobrepeso</td>\n",
              "    </tr>\n",
              "    <tr>\n",
              "      <th>4</th>\n",
              "      <td>50</td>\n",
              "      <td>1.55</td>\n",
              "      <td>20.81</td>\n",
              "      <td>Normal</td>\n",
              "    </tr>\n",
              "    <tr>\n",
              "      <th>5</th>\n",
              "      <td>100</td>\n",
              "      <td>1.90</td>\n",
              "      <td>27.70</td>\n",
              "      <td>Sobrepeso</td>\n",
              "    </tr>\n",
              "    <tr>\n",
              "      <th>6</th>\n",
              "      <td>110</td>\n",
              "      <td>1.70</td>\n",
              "      <td>38.06</td>\n",
              "      <td>Obesidad</td>\n",
              "    </tr>\n",
              "    <tr>\n",
              "      <th>7</th>\n",
              "      <td>120</td>\n",
              "      <td>1.95</td>\n",
              "      <td>31.56</td>\n",
              "      <td>Obesidad</td>\n",
              "    </tr>\n",
              "    <tr>\n",
              "      <th>8</th>\n",
              "      <td>60</td>\n",
              "      <td>1.65</td>\n",
              "      <td>22.04</td>\n",
              "      <td>Normal</td>\n",
              "    </tr>\n",
              "    <tr>\n",
              "      <th>9</th>\n",
              "      <td>70</td>\n",
              "      <td>1.78</td>\n",
              "      <td>22.09</td>\n",
              "      <td>Normal</td>\n",
              "    </tr>\n",
              "  </tbody>\n",
              "</table>\n",
              "</div>"
            ],
            "text/plain": [
              "   peso  altura    imc      salud\n",
              "0    40    1.75  13.06  Bajo peso\n",
              "1    80    1.80  24.69     Normal\n",
              "2    60    1.60  23.44     Normal\n",
              "3    90    1.85  26.30  Sobrepeso\n",
              "4    50    1.55  20.81     Normal\n",
              "5   100    1.90  27.70  Sobrepeso\n",
              "6   110    1.70  38.06   Obesidad\n",
              "7   120    1.95  31.56   Obesidad\n",
              "8    60    1.65  22.04     Normal\n",
              "9    70    1.78  22.09     Normal"
            ]
          },
          "execution_count": 5,
          "metadata": {},
          "output_type": "execute_result"
        }
      ],
      "source": [
        "datos = [[40, 1.75], [80, 1.80], [60, 1.60], [90, 1.85], [50, 1.55], [100, 1.90], [110, 1.70], [120, 1.95], [60, 1.65], [70, 1.78]]\n",
        "tabla = []\n",
        "for fila in datos:\n",
        "    peso = fila[0]\n",
        "    altura = fila[1]\n",
        "    imc_valor = imc(peso, altura)\n",
        "    estado_salud = saludable(imc_valor)\n",
        "    tabla.append([peso, altura, imc_valor, estado_salud])\n",
        "imcData = pd.DataFrame(tabla, columns = ['peso', 'altura', 'imc', 'salud'])\n",
        "imcData"
      ]
    },
    {
      "cell_type": "markdown",
      "metadata": {
        "id": "uqaLQ7v3TGqI"
      },
      "source": [
        "d) (0.2 pts) ¿Cómo podrías integrar ambas funciones dentro de una clase llamada HealthTools que calcule el IMC y clasifique automáticamente a partir de listas de pesos y alturas?"
      ]
    },
    {
      "cell_type": "code",
      "execution_count": 6,
      "metadata": {
        "id": "ac1ReJOvTuS9"
      },
      "outputs": [],
      "source": [
        "class HealthTools():\n",
        "    def __init__(self, altura, peso):\n",
        "        df = pd.DataFrame ( columns = ['peso', 'altura', 'imc', 'salud'])\n",
        "\n",
        "        self.altura = altura\n",
        "        self.peso = peso\n",
        "        self.df = df\n",
        "       \n",
        "\n",
        "    def imc (self):\n",
        "        imc = self.peso/(self.altura**2)\n",
        "        imc_redondeado = round(imc, 2)\n",
        "        return imc_redondeado\n",
        "    \n",
        "    def saludable (self):\n",
        "        if self.imc < 18.5:\n",
        "            return \"Bajo peso\"\n",
        "        elif 18.5 <= self.imc < 24.9:\n",
        "            return \"Normal\"\n",
        "        elif 25 <= self.imc < 29.9:\n",
        "            return \"Sobrepeso\"\n",
        "        else:\n",
        "            return \"Obesidad\"\n",
        "\n",
        "    def run(self):\n",
        "        self.df = [self.peso, self.altura, self.imc(self), self.saludable(self)]\n",
        "\n"
      ]
    },
    {
      "cell_type": "markdown",
      "metadata": {
        "id": "_KNWF6NGTxLR"
      },
      "source": [
        "## Ejercicio 2 — Exploración y visualización (3 puntos)\n",
        "\n",
        "a) (0.75 pts) Carga el dataset desde el fichero CSV y guárdalo en un DataFrame llamado lifeStyleData. Muestra las 5 primeras filas, el número de filas y columnas."
      ]
    },
    {
      "cell_type": "code",
      "execution_count": 7,
      "metadata": {
        "id": "l907uB6pT4qS"
      },
      "outputs": [
        {
          "name": "stdout",
          "output_type": "stream",
          "text": [
            "Numero de filas:  20000\n",
            "Numero de columnas:  54\n"
          ]
        },
        {
          "data": {
            "text/html": [
              "<div>\n",
              "<style scoped>\n",
              "    .dataframe tbody tr th:only-of-type {\n",
              "        vertical-align: middle;\n",
              "    }\n",
              "\n",
              "    .dataframe tbody tr th {\n",
              "        vertical-align: top;\n",
              "    }\n",
              "\n",
              "    .dataframe thead th {\n",
              "        text-align: right;\n",
              "    }\n",
              "</style>\n",
              "<table border=\"1\" class=\"dataframe\">\n",
              "  <thead>\n",
              "    <tr style=\"text-align: right;\">\n",
              "      <th></th>\n",
              "      <th>Age</th>\n",
              "      <th>Gender</th>\n",
              "      <th>Weight (kg)</th>\n",
              "      <th>Height (m)</th>\n",
              "      <th>Max_BPM</th>\n",
              "      <th>Avg_BPM</th>\n",
              "      <th>Resting_BPM</th>\n",
              "      <th>Session_Duration (hours)</th>\n",
              "      <th>Calories_Burned</th>\n",
              "      <th>Workout_Type</th>\n",
              "      <th>...</th>\n",
              "      <th>cal_from_macros</th>\n",
              "      <th>pct_carbs</th>\n",
              "      <th>protein_per_kg</th>\n",
              "      <th>pct_HRR</th>\n",
              "      <th>pct_maxHR</th>\n",
              "      <th>cal_balance</th>\n",
              "      <th>lean_mass_kg</th>\n",
              "      <th>expected_burn</th>\n",
              "      <th>Burns Calories (per 30 min)_bc</th>\n",
              "      <th>Burns_Calories_Bin</th>\n",
              "    </tr>\n",
              "  </thead>\n",
              "  <tbody>\n",
              "    <tr>\n",
              "      <th>0</th>\n",
              "      <td>34.91</td>\n",
              "      <td>Male</td>\n",
              "      <td>65.27</td>\n",
              "      <td>1.62</td>\n",
              "      <td>188.58</td>\n",
              "      <td>157.65</td>\n",
              "      <td>69.05</td>\n",
              "      <td>1.00</td>\n",
              "      <td>1080.90</td>\n",
              "      <td>Strength</td>\n",
              "      <td>...</td>\n",
              "      <td>2139.59</td>\n",
              "      <td>0.500432</td>\n",
              "      <td>1.624789</td>\n",
              "      <td>0.741237</td>\n",
              "      <td>0.835985</td>\n",
              "      <td>725.10</td>\n",
              "      <td>47.777394</td>\n",
              "      <td>685.1600</td>\n",
              "      <td>7.260425e+19</td>\n",
              "      <td>Medium</td>\n",
              "    </tr>\n",
              "    <tr>\n",
              "      <th>1</th>\n",
              "      <td>23.37</td>\n",
              "      <td>Female</td>\n",
              "      <td>56.41</td>\n",
              "      <td>1.55</td>\n",
              "      <td>179.43</td>\n",
              "      <td>131.75</td>\n",
              "      <td>73.18</td>\n",
              "      <td>1.37</td>\n",
              "      <td>1809.91</td>\n",
              "      <td>HIIT</td>\n",
              "      <td>...</td>\n",
              "      <td>1711.65</td>\n",
              "      <td>0.500850</td>\n",
              "      <td>1.514093</td>\n",
              "      <td>0.551247</td>\n",
              "      <td>0.734270</td>\n",
              "      <td>-232.91</td>\n",
              "      <td>40.809803</td>\n",
              "      <td>978.6184</td>\n",
              "      <td>1.020506e+20</td>\n",
              "      <td>High</td>\n",
              "    </tr>\n",
              "    <tr>\n",
              "      <th>2</th>\n",
              "      <td>33.20</td>\n",
              "      <td>Female</td>\n",
              "      <td>58.98</td>\n",
              "      <td>1.67</td>\n",
              "      <td>175.04</td>\n",
              "      <td>123.95</td>\n",
              "      <td>54.96</td>\n",
              "      <td>0.91</td>\n",
              "      <td>802.26</td>\n",
              "      <td>Cardio</td>\n",
              "      <td>...</td>\n",
              "      <td>1965.92</td>\n",
              "      <td>0.500610</td>\n",
              "      <td>1.663445</td>\n",
              "      <td>0.574534</td>\n",
              "      <td>0.708124</td>\n",
              "      <td>805.74</td>\n",
              "      <td>44.635580</td>\n",
              "      <td>654.5266</td>\n",
              "      <td>1.079607e+20</td>\n",
              "      <td>High</td>\n",
              "    </tr>\n",
              "    <tr>\n",
              "      <th>3</th>\n",
              "      <td>38.69</td>\n",
              "      <td>Female</td>\n",
              "      <td>93.78</td>\n",
              "      <td>1.70</td>\n",
              "      <td>191.21</td>\n",
              "      <td>155.10</td>\n",
              "      <td>50.07</td>\n",
              "      <td>1.10</td>\n",
              "      <td>1450.79</td>\n",
              "      <td>HIIT</td>\n",
              "      <td>...</td>\n",
              "      <td>1627.28</td>\n",
              "      <td>0.499533</td>\n",
              "      <td>0.862017</td>\n",
              "      <td>0.744155</td>\n",
              "      <td>0.811150</td>\n",
              "      <td>1206.21</td>\n",
              "      <td>63.007432</td>\n",
              "      <td>773.6300</td>\n",
              "      <td>8.987921e+19</td>\n",
              "      <td>High</td>\n",
              "    </tr>\n",
              "    <tr>\n",
              "      <th>4</th>\n",
              "      <td>45.09</td>\n",
              "      <td>Male</td>\n",
              "      <td>52.42</td>\n",
              "      <td>1.88</td>\n",
              "      <td>193.58</td>\n",
              "      <td>152.88</td>\n",
              "      <td>70.84</td>\n",
              "      <td>1.08</td>\n",
              "      <td>1166.40</td>\n",
              "      <td>Strength</td>\n",
              "      <td>...</td>\n",
              "      <td>2659.23</td>\n",
              "      <td>0.500581</td>\n",
              "      <td>2.538153</td>\n",
              "      <td>0.668405</td>\n",
              "      <td>0.789751</td>\n",
              "      <td>303.60</td>\n",
              "      <td>43.347504</td>\n",
              "      <td>711.4176</td>\n",
              "      <td>5.264685e+19</td>\n",
              "      <td>Low</td>\n",
              "    </tr>\n",
              "  </tbody>\n",
              "</table>\n",
              "<p>5 rows × 54 columns</p>\n",
              "</div>"
            ],
            "text/plain": [
              "     Age  Gender  Weight (kg)  Height (m)  Max_BPM  Avg_BPM  Resting_BPM  \\\n",
              "0  34.91    Male        65.27        1.62   188.58   157.65        69.05   \n",
              "1  23.37  Female        56.41        1.55   179.43   131.75        73.18   \n",
              "2  33.20  Female        58.98        1.67   175.04   123.95        54.96   \n",
              "3  38.69  Female        93.78        1.70   191.21   155.10        50.07   \n",
              "4  45.09    Male        52.42        1.88   193.58   152.88        70.84   \n",
              "\n",
              "   Session_Duration (hours)  Calories_Burned Workout_Type  ...  \\\n",
              "0                      1.00          1080.90     Strength  ...   \n",
              "1                      1.37          1809.91         HIIT  ...   \n",
              "2                      0.91           802.26       Cardio  ...   \n",
              "3                      1.10          1450.79         HIIT  ...   \n",
              "4                      1.08          1166.40     Strength  ...   \n",
              "\n",
              "   cal_from_macros  pct_carbs  protein_per_kg   pct_HRR  pct_maxHR  \\\n",
              "0          2139.59   0.500432        1.624789  0.741237   0.835985   \n",
              "1          1711.65   0.500850        1.514093  0.551247   0.734270   \n",
              "2          1965.92   0.500610        1.663445  0.574534   0.708124   \n",
              "3          1627.28   0.499533        0.862017  0.744155   0.811150   \n",
              "4          2659.23   0.500581        2.538153  0.668405   0.789751   \n",
              "\n",
              "   cal_balance  lean_mass_kg  expected_burn  Burns Calories (per 30 min)_bc  \\\n",
              "0       725.10     47.777394       685.1600                    7.260425e+19   \n",
              "1      -232.91     40.809803       978.6184                    1.020506e+20   \n",
              "2       805.74     44.635580       654.5266                    1.079607e+20   \n",
              "3      1206.21     63.007432       773.6300                    8.987921e+19   \n",
              "4       303.60     43.347504       711.4176                    5.264685e+19   \n",
              "\n",
              "   Burns_Calories_Bin  \n",
              "0              Medium  \n",
              "1                High  \n",
              "2                High  \n",
              "3                High  \n",
              "4                 Low  \n",
              "\n",
              "[5 rows x 54 columns]"
            ]
          },
          "execution_count": 7,
          "metadata": {},
          "output_type": "execute_result"
        }
      ],
      "source": [
        "df = pd.read_csv(\"Final_data.csv\", encoding='ISO-8859-1')\n",
        "lifeStyleData = df\n",
        "\n",
        "print('Numero de filas: ', lifeStyleData.shape[0])\n",
        "print ('Numero de columnas: ', lifeStyleData.shape[1])\n",
        "lifeStyleData.head()"
      ]
    },
    {
      "cell_type": "markdown",
      "metadata": {
        "id": "JlpQNR-CT49v"
      },
      "source": [
        "b) (0.75 pts) Crea una función describeData(dataFrame) que devuelva para cada columna: tipo de dato, número de valores nulos y porcentaje de nulos."
      ]
    },
    {
      "cell_type": "code",
      "execution_count": 41,
      "metadata": {
        "id": "oXcuxp6mT8iA"
      },
      "outputs": [
        {
          "name": "stdout",
          "output_type": "stream",
          "text": [
            "Shape (filas, columnas): (19997, 54)\n",
            "Valores nulos por columna:\n",
            "Age                               0\n",
            "Gender                            0\n",
            "Weight (kg)                       0\n",
            "Height (m)                        0\n",
            "Max_BPM                           0\n",
            "Avg_BPM                           0\n",
            "Resting_BPM                       0\n",
            "Session_Duration (hours)          0\n",
            "Calories_Burned                   0\n",
            "Workout_Type                      0\n",
            "Fat_Percentage                    0\n",
            "Water_Intake (liters)             0\n",
            "Workout_Frequency (days/week)     0\n",
            "Experience_Level                  0\n",
            "BMI                               0\n",
            "Daily meals frequency             0\n",
            "Physical exercise                 0\n",
            "Carbs                             0\n",
            "Proteins                          0\n",
            "Fats                              0\n",
            "Calories                          0\n",
            "meal_name                         0\n",
            "meal_type                         0\n",
            "diet_type                         0\n",
            "sugar_g                           0\n",
            "sodium_mg                         0\n",
            "cholesterol_mg                    0\n",
            "serving_size_g                    0\n",
            "cooking_method                    0\n",
            "prep_time_min                     0\n",
            "cook_time_min                     0\n",
            "rating                            0\n",
            "Name of Exercise                  0\n",
            "Sets                              0\n",
            "Reps                              0\n",
            "Benefit                           0\n",
            "Burns Calories (per 30 min)       0\n",
            "Target Muscle Group               0\n",
            "Equipment Needed                  0\n",
            "Difficulty Level                  0\n",
            "Body Part                         0\n",
            "Type of Muscle                    0\n",
            "Workout                           0\n",
            "BMI_calc                          0\n",
            "cal_from_macros                   0\n",
            "pct_carbs                         0\n",
            "protein_per_kg                    0\n",
            "pct_HRR                           0\n",
            "pct_maxHR                         0\n",
            "cal_balance                       0\n",
            "lean_mass_kg                      0\n",
            "expected_burn                     0\n",
            "Burns Calories (per 30 min)_bc    0\n",
            "Burns_Calories_Bin                0\n",
            "dtype: int64\n",
            "Tipos de datos:\n",
            "Age                               float64\n",
            "Gender                             object\n",
            "Weight (kg)                       float64\n",
            "Height (m)                        float64\n",
            "Max_BPM                           float64\n",
            "Avg_BPM                           float64\n",
            "Resting_BPM                       float64\n",
            "Session_Duration (hours)          float64\n",
            "Calories_Burned                   float64\n",
            "Workout_Type                       object\n",
            "Fat_Percentage                    float64\n",
            "Water_Intake (liters)             float64\n",
            "Workout_Frequency (days/week)     float64\n",
            "Experience_Level                  float64\n",
            "BMI                               float64\n",
            "Daily meals frequency             float64\n",
            "Physical exercise                 float64\n",
            "Carbs                             float64\n",
            "Proteins                          float64\n",
            "Fats                              float64\n",
            "Calories                          float64\n",
            "meal_name                          object\n",
            "meal_type                          object\n",
            "diet_type                          object\n",
            "sugar_g                           float64\n",
            "sodium_mg                         float64\n",
            "cholesterol_mg                    float64\n",
            "serving_size_g                    float64\n",
            "cooking_method                     object\n",
            "prep_time_min                     float64\n",
            "cook_time_min                     float64\n",
            "rating                            float64\n",
            "Name of Exercise                   object\n",
            "Sets                              float64\n",
            "Reps                              float64\n",
            "Benefit                            object\n",
            "Burns Calories (per 30 min)       float64\n",
            "Target Muscle Group                object\n",
            "Equipment Needed                   object\n",
            "Difficulty Level                   object\n",
            "Body Part                          object\n",
            "Type of Muscle                     object\n",
            "Workout                            object\n",
            "BMI_calc                          float64\n",
            "cal_from_macros                   float64\n",
            "pct_carbs                         float64\n",
            "protein_per_kg                    float64\n",
            "pct_HRR                           float64\n",
            "pct_maxHR                         float64\n",
            "cal_balance                       float64\n",
            "lean_mass_kg                      float64\n",
            "expected_burn                     float64\n",
            "Burns Calories (per 30 min)_bc    float64\n",
            "Burns_Calories_Bin                 object\n",
            "dtype: object\n",
            "Porcentaje total de valores nulos: 0.00%\n"
          ]
        }
      ],
      "source": [
        "\n",
        "def describeData(dataFrame):\n",
        "    print(\"Shape (filas, columnas):\", dataFrame.shape)\n",
        "    print(\"Valores nulos por columna:\")\n",
        "    print(dataFrame.isna().sum())\n",
        "    print(\"Tipos de datos:\")\n",
        "    print(dataFrame.dtypes)\n",
        "    total_na = dataFrame.isna().sum().sum()\n",
        "    total_values = dataFrame.shape[0] * dataFrame.shape[1]\n",
        "    print(f\"Porcentaje total de valores nulos: {100 * total_na / total_values:.2f}%\")\n",
        "    \n",
        "describeData(lifeStyleData)\n",
        "\n"
      ]
    },
    {
      "cell_type": "markdown",
      "metadata": {
        "id": "mHjSdK4oT7Yp"
      },
      "source": [
        "c) (0.75 pts) Usa describeData(lifeStyleData) y comenta brevemente (2–3 líneas) qué variables parecen tener más valores faltantes."
      ]
    },
    {
      "cell_type": "code",
      "execution_count": 9,
      "metadata": {
        "id": "bgMOXwrbT-Du"
      },
      "outputs": [],
      "source": [
        "#Las lineas que parecen tener mas valores faltantes son:\n",
        "#   Max_BPM\n",
        "#   Avg_BPM \n",
        "#   cholesterol_mg \n",
        "#\n",
        "#"
      ]
    },
    {
      "cell_type": "markdown",
      "metadata": {
        "id": "qlYW9h-qT-VT"
      },
      "source": [
        "d) (0.75 pts) Realiza un gráfico que muestre las correlaciones entre variables numéricas. ¿Hay alguna correlación fuerte o inesperada?"
      ]
    },
    {
      "cell_type": "code",
      "execution_count": 37,
      "metadata": {
        "id": "buQgpNSrUCS3"
      },
      "outputs": [
        {
          "name": "stdout",
          "output_type": "stream",
          "text": [
            "                                     Age  Weight (kg)  Height (m)   Max_BPM  \\\n",
            "Age                             1.000000    -0.044170   -0.037019 -0.028832   \n",
            "Weight (kg)                    -0.044170     1.000000    0.353906  0.066791   \n",
            "Height (m)                     -0.037019     0.353906    1.000000 -0.014299   \n",
            "Max_BPM                        -0.028832     0.066791   -0.014299  1.000000   \n",
            "Avg_BPM                         0.039313     0.016498   -0.012197 -0.028090   \n",
            "Resting_BPM                     0.013328    -0.033607    0.009877  0.035528   \n",
            "Session_Duration (hours)       -0.025400    -0.002153    0.006842  0.009771   \n",
            "Calories_Burned                -0.021436    -0.001862    0.009386  0.003083   \n",
            "Fat_Percentage                 -0.025170     0.778880   -0.156490  0.071815   \n",
            "Water_Intake (liters)           0.037602     0.397986    0.398071  0.041629   \n",
            "Workout_Frequency (days/week)   0.007121    -0.003908    0.007430 -0.038403   \n",
            "Experience_Level               -0.022504     0.016567    0.015666 -0.003698   \n",
            "BMI                            -0.017097     0.855569   -0.166922  0.073351   \n",
            "Daily meals frequency           0.037906     0.041947   -0.013680 -0.024600   \n",
            "Physical exercise               0.021602    -0.008208    0.014746 -0.013756   \n",
            "Carbs                           0.052056    -0.003558    0.008296 -0.010649   \n",
            "Proteins                        0.052262    -0.003483    0.007927 -0.010579   \n",
            "Fats                            0.052158    -0.003615    0.008080 -0.010533   \n",
            "Calories                       -0.041197     0.978267    0.347103  0.061040   \n",
            "sugar_g                         0.011705    -0.007398   -0.019127  0.045709   \n",
            "sodium_mg                       0.044933    -0.013665    0.009694  0.020716   \n",
            "cholesterol_mg                  0.012736     0.019582    0.028129 -0.016928   \n",
            "serving_size_g                  0.008797     0.038126    0.036998 -0.035752   \n",
            "prep_time_min                  -0.011160    -0.021420    0.045751  0.004458   \n",
            "cook_time_min                  -0.009895    -0.038072   -0.018430 -0.016444   \n",
            "rating                         -0.010752    -0.015693    0.016865 -0.056249   \n",
            "Sets                            0.020305     0.008517   -0.017508 -0.030391   \n",
            "Reps                           -0.028505    -0.026712    0.003848 -0.041888   \n",
            "Burns Calories (per 30 min)     0.005617     0.090470    0.065306 -0.022855   \n",
            "BMI_calc                       -0.017095     0.855568   -0.166925  0.073347   \n",
            "cal_from_macros                 0.052134    -0.003560    0.008159 -0.010602   \n",
            "pct_carbs                      -0.004937    -0.001266    0.012450 -0.004318   \n",
            "protein_per_kg                  0.067398    -0.726750   -0.246211 -0.055933   \n",
            "pct_HRR                         0.044334    -0.016809   -0.012488 -0.511919   \n",
            "pct_maxHR                       0.048205    -0.023269   -0.005517 -0.559491   \n",
            "cal_balance                    -0.016032     0.736632    0.254369  0.043734   \n",
            "lean_mass_kg                   -0.050621     0.981893    0.477538  0.060057   \n",
            "expected_burn                  -0.025907     0.024332    0.029196  0.003503   \n",
            "Burns Calories (per 30 min)_bc -0.020993     0.253374    0.103789 -0.029760   \n",
            "\n",
            "                                 Avg_BPM  Resting_BPM  \\\n",
            "Age                             0.039313     0.013328   \n",
            "Weight (kg)                     0.016498    -0.033607   \n",
            "Height (m)                     -0.012197     0.009877   \n",
            "Max_BPM                        -0.028090     0.035528   \n",
            "Avg_BPM                         1.000000     0.063100   \n",
            "Resting_BPM                     0.063100     1.000000   \n",
            "Session_Duration (hours)        0.018670    -0.017508   \n",
            "Calories_Burned                 0.008175    -0.001567   \n",
            "Fat_Percentage                  0.008947    -0.042061   \n",
            "Water_Intake (liters)           0.006089     0.011732   \n",
            "Workout_Frequency (days/week)  -0.020787    -0.005416   \n",
            "Experience_Level               -0.005488    -0.000753   \n",
            "BMI                             0.028654    -0.040765   \n",
            "Daily meals frequency           0.036681     0.040457   \n",
            "Physical exercise              -0.025505     0.015353   \n",
            "Carbs                           0.033041     0.042519   \n",
            "Proteins                        0.033335     0.042815   \n",
            "Fats                            0.032980     0.042953   \n",
            "Calories                        0.014234    -0.034694   \n",
            "sugar_g                        -0.046158     0.034196   \n",
            "sodium_mg                       0.017799     0.051608   \n",
            "cholesterol_mg                 -0.013461    -0.030471   \n",
            "serving_size_g                  0.017683    -0.004426   \n",
            "prep_time_min                   0.004432    -0.008268   \n",
            "cook_time_min                  -0.023007    -0.033140   \n",
            "rating                         -0.018731    -0.000512   \n",
            "Sets                           -0.046231     0.002989   \n",
            "Reps                           -0.031388     0.001177   \n",
            "Burns Calories (per 30 min)    -0.073467     0.037723   \n",
            "BMI_calc                        0.028652    -0.040762   \n",
            "cal_from_macros                 0.033086     0.042713   \n",
            "pct_carbs                      -0.005054    -0.016530   \n",
            "protein_per_kg                  0.018214     0.065880   \n",
            "pct_HRR                         0.856717    -0.088424   \n",
            "pct_maxHR                       0.841872     0.035018   \n",
            "cal_balance                     0.005004    -0.024987   \n",
            "lean_mass_kg                    0.011810    -0.030836   \n",
            "expected_burn                  -0.005300    -0.004673   \n",
            "Burns Calories (per 30 min)_bc -0.058562    -0.000926   \n",
            "\n",
            "                                Session_Duration (hours)  Calories_Burned  \\\n",
            "Age                                            -0.025400        -0.021436   \n",
            "Weight (kg)                                    -0.002153        -0.001862   \n",
            "Height (m)                                      0.006842         0.009386   \n",
            "Max_BPM                                         0.009771         0.003083   \n",
            "Avg_BPM                                         0.018670         0.008175   \n",
            "Resting_BPM                                    -0.017508        -0.001567   \n",
            "Session_Duration (hours)                        1.000000         0.814376   \n",
            "Calories_Burned                                 0.814376         1.000000   \n",
            "Fat_Percentage                                 -0.034830        -0.033845   \n",
            "Water_Intake (liters)                           0.287787         0.262809   \n",
            "Workout_Frequency (days/week)                   0.637634         0.582711   \n",
            "Experience_Level                                0.758463         0.697081   \n",
            "BMI                                            -0.004170        -0.004436   \n",
            "Daily meals frequency                           0.022437         0.027971   \n",
            "Physical exercise                               0.048757         0.048886   \n",
            "Carbs                                           0.010538         0.011784   \n",
            "Proteins                                        0.010310         0.011457   \n",
            "Fats                                            0.010389         0.011625   \n",
            "Calories                                        0.051596         0.048101   \n",
            "sugar_g                                        -0.010817        -0.003065   \n",
            "sodium_mg                                      -0.014394        -0.009279   \n",
            "cholesterol_mg                                  0.092514         0.072195   \n",
            "serving_size_g                                  0.045057         0.029359   \n",
            "prep_time_min                                  -0.003180        -0.002825   \n",
            "cook_time_min                                  -0.055489        -0.061664   \n",
            "rating                                          0.022149         0.025518   \n",
            "Sets                                            0.011419         0.024030   \n",
            "Reps                                            0.033396         0.043345   \n",
            "Burns Calories (per 30 min)                    -0.011995         0.006606   \n",
            "BMI_calc                                       -0.004168        -0.004437   \n",
            "cal_from_macros                                 0.010449         0.011672   \n",
            "pct_carbs                                       0.007831         0.009439   \n",
            "protein_per_kg                                 -0.042991        -0.036190   \n",
            "pct_HRR                                         0.017921         0.010682   \n",
            "pct_maxHR                                       0.011044         0.006289   \n",
            "cal_balance                                    -0.528579        -0.660529   \n",
            "lean_mass_kg                                    0.025298         0.023299   \n",
            "expected_burn                                   0.944114         0.773944   \n",
            "Burns Calories (per 30 min)_bc                 -0.030752        -0.013376   \n",
            "\n",
            "                                Fat_Percentage  Water_Intake (liters)  ...  \\\n",
            "Age                                  -0.025170               0.037602  ...   \n",
            "Weight (kg)                           0.778880               0.397986  ...   \n",
            "Height (m)                           -0.156490               0.398071  ...   \n",
            "Max_BPM                               0.071815               0.041629  ...   \n",
            "Avg_BPM                               0.008947               0.006089  ...   \n",
            "Resting_BPM                          -0.042061               0.011732  ...   \n",
            "Session_Duration (hours)             -0.034830               0.287787  ...   \n",
            "Calories_Burned                      -0.033845               0.262809  ...   \n",
            "Fat_Percentage                        1.000000               0.185222  ...   \n",
            "Water_Intake (liters)                 0.185222               1.000000  ...   \n",
            "Workout_Frequency (days/week)        -0.039452               0.241304  ...   \n",
            "Experience_Level                     -0.033297               0.312330  ...   \n",
            "BMI                                   0.902399               0.214094  ...   \n",
            "Daily meals frequency                 0.052766               0.034499  ...   \n",
            "Physical exercise                    -0.009792               0.091509  ...   \n",
            "Carbs                                -0.012555               0.045289  ...   \n",
            "Proteins                             -0.012401               0.045128  ...   \n",
            "Fats                                 -0.012596               0.045117  ...   \n",
            "Calories                              0.759587               0.411734  ...   \n",
            "sugar_g                              -0.003700               0.051328  ...   \n",
            "sodium_mg                            -0.017019               0.012090  ...   \n",
            "cholesterol_mg                        0.004868               0.023689  ...   \n",
            "serving_size_g                        0.018098               0.005487  ...   \n",
            "prep_time_min                        -0.043064               0.032258  ...   \n",
            "cook_time_min                        -0.016273              -0.008357  ...   \n",
            "rating                               -0.026042               0.037466  ...   \n",
            "Sets                                  0.006706               0.005139  ...   \n",
            "Reps                                 -0.033947              -0.032623  ...   \n",
            "Burns Calories (per 30 min)           0.054430               0.026132  ...   \n",
            "BMI_calc                              0.902400               0.214093  ...   \n",
            "cal_from_macros                      -0.012538               0.045211  ...   \n",
            "pct_carbs                            -0.003438               0.006062  ...   \n",
            "protein_per_kg                       -0.603396              -0.281745  ...   \n",
            "pct_HRR                              -0.020679              -0.019897  ...   \n",
            "pct_maxHR                            -0.030784              -0.018285  ...   \n",
            "cal_balance                           0.594539               0.126393  ...   \n",
            "lean_mass_kg                          0.659068               0.435261  ...   \n",
            "expected_burn                        -0.018933               0.281397  ...   \n",
            "Burns Calories (per 30 min)_bc        0.178864               0.072745  ...   \n",
            "\n",
            "                                BMI_calc  cal_from_macros  pct_carbs  \\\n",
            "Age                            -0.017095         0.052134  -0.004937   \n",
            "Weight (kg)                     0.855568        -0.003560  -0.001266   \n",
            "Height (m)                     -0.166925         0.008159   0.012450   \n",
            "Max_BPM                         0.073347        -0.010602  -0.004318   \n",
            "Avg_BPM                         0.028652         0.033086  -0.005054   \n",
            "Resting_BPM                    -0.040762         0.042713  -0.016530   \n",
            "Session_Duration (hours)       -0.004168         0.010449   0.007831   \n",
            "Calories_Burned                -0.004437         0.011672   0.009439   \n",
            "Fat_Percentage                  0.902400        -0.012538  -0.003438   \n",
            "Water_Intake (liters)           0.214093         0.045211   0.006062   \n",
            "Workout_Frequency (days/week)   0.000380         0.024459  -0.004353   \n",
            "Experience_Level                0.016334         0.031555   0.003435   \n",
            "BMI                             1.000000        -0.003740  -0.006471   \n",
            "Daily meals frequency           0.058120         0.126887   0.006836   \n",
            "Physical exercise              -0.010701         0.644022   0.002275   \n",
            "Carbs                          -0.003790         0.999924   0.011505   \n",
            "Proteins                       -0.003557         0.999803  -0.010976   \n",
            "Fats                           -0.003757         0.999848  -0.013748   \n",
            "Calories                        0.837503         0.020663   0.000111   \n",
            "sugar_g                         0.000880         0.065405  -0.009750   \n",
            "sodium_mg                      -0.020807         0.014769  -0.002870   \n",
            "cholesterol_mg                  0.000363        -0.046303   0.002097   \n",
            "serving_size_g                  0.026339         0.019147  -0.002364   \n",
            "prep_time_min                  -0.039219         0.008517   0.004467   \n",
            "cook_time_min                  -0.028099         0.005601   0.004067   \n",
            "rating                         -0.030541         0.026646   0.000875   \n",
            "Sets                            0.022309         0.009530   0.012300   \n",
            "Reps                           -0.030147        -0.074682  -0.003309   \n",
            "Burns Calories (per 30 min)     0.062640        -0.002735  -0.000741   \n",
            "BMI_calc                        1.000000        -0.003734  -0.006473   \n",
            "cal_from_macros                -0.003734         1.000000  -0.000568   \n",
            "pct_carbs                      -0.006473        -0.000568   1.000000   \n",
            "protein_per_kg                 -0.634632         0.623002  -0.010177   \n",
            "pct_HRR                        -0.004794         0.023038   0.000581   \n",
            "pct_maxHR                      -0.015224         0.031443  -0.001557   \n",
            "cal_balance                     0.632617         0.007400  -0.006493   \n",
            "lean_mass_kg                    0.769278        -0.001806   0.000565   \n",
            "expected_burn                   0.012776         0.010061   0.008069   \n",
            "Burns Calories (per 30 min)_bc  0.211209         0.044484  -0.001751   \n",
            "\n",
            "                                protein_per_kg   pct_HRR  pct_maxHR  \\\n",
            "Age                                   0.067398  0.044334   0.048205   \n",
            "Weight (kg)                          -0.726750 -0.016809  -0.023269   \n",
            "Height (m)                           -0.246211 -0.012488  -0.005517   \n",
            "Max_BPM                              -0.055933 -0.511919  -0.559491   \n",
            "Avg_BPM                               0.018214  0.856717   0.841872   \n",
            "Resting_BPM                           0.065880 -0.088424   0.035018   \n",
            "Session_Duration (hours)             -0.042991  0.017921   0.011044   \n",
            "Calories_Burned                      -0.036190  0.010682   0.006289   \n",
            "Fat_Percentage                       -0.603396 -0.020679  -0.030784   \n",
            "Water_Intake (liters)                -0.281745 -0.019897  -0.018285   \n",
            "Workout_Frequency (days/week)        -0.035653  0.002404   0.002469   \n",
            "Experience_Level                     -0.051135  0.004191  -0.000129   \n",
            "BMI                                  -0.634637 -0.004794  -0.015224   \n",
            "Daily meals frequency                 0.042542  0.043423   0.045960   \n",
            "Physical exercise                     0.388355 -0.022135  -0.014931   \n",
            "Carbs                                 0.622829  0.023056   0.031435   \n",
            "Proteins                              0.623115  0.023225   0.031638   \n",
            "Fats                                  0.622960  0.022874   0.031312   \n",
            "Calories                             -0.701437 -0.015891  -0.022158   \n",
            "sugar_g                               0.052585 -0.069714  -0.066421   \n",
            "sodium_mg                             0.018621 -0.001877   0.002784   \n",
            "cholesterol_mg                       -0.043389  0.000533  -0.002646   \n",
            "serving_size_g                       -0.021040  0.033484   0.033110   \n",
            "prep_time_min                         0.025732  0.002863  -0.000389   \n",
            "cook_time_min                         0.047437 -0.008015  -0.009533   \n",
            "rating                                0.026188  0.010758   0.016086   \n",
            "Sets                                 -0.002463 -0.020215  -0.020099   \n",
            "Reps                                 -0.030335 -0.003808  -0.004313   \n",
            "Burns Calories (per 30 min)          -0.080839 -0.055125  -0.048101   \n",
            "BMI_calc                             -0.634632 -0.004794  -0.015224   \n",
            "cal_from_macros                       0.623002  0.023038   0.031443   \n",
            "pct_carbs                            -0.010177  0.000581  -0.001557   \n",
            "protein_per_kg                        1.000000  0.033142   0.045482   \n",
            "pct_HRR                               0.033142  1.000000   0.988486   \n",
            "pct_maxHR                             0.045482  0.988486   1.000000   \n",
            "cal_balance                          -0.502037 -0.019387  -0.021038   \n",
            "lean_mass_kg                         -0.722183 -0.018657  -0.023886   \n",
            "expected_burn                        -0.063394 -0.000878  -0.005378   \n",
            "Burns Calories (per 30 min)_bc       -0.157683 -0.036359  -0.033363   \n",
            "\n",
            "                                cal_balance  lean_mass_kg  expected_burn  \\\n",
            "Age                               -0.016032     -0.050621      -0.025907   \n",
            "Weight (kg)                        0.736632      0.981893       0.024332   \n",
            "Height (m)                         0.254369      0.477538       0.029196   \n",
            "Max_BPM                            0.043734      0.060057       0.003503   \n",
            "Avg_BPM                            0.005004      0.011810      -0.005300   \n",
            "Resting_BPM                       -0.024987     -0.030836      -0.004673   \n",
            "Session_Duration (hours)          -0.528579      0.025298       0.944114   \n",
            "Calories_Burned                   -0.660529      0.023299       0.773944   \n",
            "Fat_Percentage                     0.594539      0.659068      -0.018933   \n",
            "Water_Intake (liters)              0.126393      0.435261       0.281397   \n",
            "Workout_Frequency (days/week)     -0.344252      0.024766       0.618921   \n",
            "Experience_Level                  -0.419521      0.048769       0.735702   \n",
            "BMI                                0.632617      0.769278       0.012775   \n",
            "Daily meals frequency              0.015238      0.034548       0.035517   \n",
            "Physical exercise                 -0.008449     -0.001476       0.061415   \n",
            "Carbs                              0.007332     -0.001786       0.010158   \n",
            "Proteins                           0.007601     -0.001771       0.009913   \n",
            "Fats                               0.007378     -0.001861       0.009992   \n",
            "Calories                           0.718160      0.962929       0.076530   \n",
            "sugar_g                            0.002126     -0.009732      -0.037623   \n",
            "sodium_mg                         -0.006823     -0.011834      -0.024063   \n",
            "cholesterol_mg                    -0.034663      0.023307       0.075059   \n",
            "serving_size_g                     0.010793      0.041326       0.040145   \n",
            "prep_time_min                     -0.013485     -0.015222      -0.021504   \n",
            "cook_time_min                      0.010044     -0.043579      -0.057790   \n",
            "rating                            -0.028835     -0.009476       0.017087   \n",
            "Sets                              -0.007035      0.009503       0.159440   \n",
            "Reps                              -0.046811     -0.023364       0.144230   \n",
            "Burns Calories (per 30 min)        0.065676      0.097453       0.311940   \n",
            "BMI_calc                           0.632617      0.769278       0.012776   \n",
            "cal_from_macros                    0.007400     -0.001806       0.010061   \n",
            "pct_carbs                         -0.006493      0.000565       0.008069   \n",
            "protein_per_kg                    -0.502037     -0.722183      -0.063394   \n",
            "pct_HRR                           -0.019387     -0.018657      -0.000878   \n",
            "pct_maxHR                         -0.021038     -0.023886      -0.005378   \n",
            "cal_balance                        1.000000      0.707574      -0.481669   \n",
            "lean_mass_kg                       0.707574      1.000000       0.052913   \n",
            "expected_burn                     -0.481669      0.052913       1.000000   \n",
            "Burns Calories (per 30 min)_bc     0.197723      0.252962       0.231746   \n",
            "\n",
            "                                Burns Calories (per 30 min)_bc  \n",
            "Age                                                  -0.020993  \n",
            "Weight (kg)                                           0.253374  \n",
            "Height (m)                                            0.103789  \n",
            "Max_BPM                                              -0.029760  \n",
            "Avg_BPM                                              -0.058562  \n",
            "Resting_BPM                                          -0.000926  \n",
            "Session_Duration (hours)                             -0.030752  \n",
            "Calories_Burned                                      -0.013376  \n",
            "Fat_Percentage                                        0.178864  \n",
            "Water_Intake (liters)                                 0.072745  \n",
            "Workout_Frequency (days/week)                         0.011229  \n",
            "Experience_Level                                      0.019213  \n",
            "BMI                                                   0.211213  \n",
            "Daily meals frequency                                 0.044208  \n",
            "Physical exercise                                     0.065775  \n",
            "Carbs                                                 0.044485  \n",
            "Proteins                                              0.044483  \n",
            "Fats                                                  0.044467  \n",
            "Calories                                              0.250647  \n",
            "sugar_g                                              -0.070155  \n",
            "sodium_mg                                             0.000778  \n",
            "cholesterol_mg                                       -0.041540  \n",
            "serving_size_g                                        0.000603  \n",
            "prep_time_min                                        -0.059415  \n",
            "cook_time_min                                        -0.007258  \n",
            "rating                                               -0.017225  \n",
            "Sets                                                  0.314940  \n",
            "Reps                                                  0.268210  \n",
            "Burns Calories (per 30 min)                           0.814560  \n",
            "BMI_calc                                              0.211209  \n",
            "cal_from_macros                                       0.044484  \n",
            "pct_carbs                                            -0.001751  \n",
            "protein_per_kg                                       -0.157683  \n",
            "pct_HRR                                              -0.036359  \n",
            "pct_maxHR                                            -0.033363  \n",
            "cal_balance                                           0.197723  \n",
            "lean_mass_kg                                          0.252962  \n",
            "expected_burn                                         0.231746  \n",
            "Burns Calories (per 30 min)_bc                        1.000000  \n",
            "\n",
            "[39 rows x 39 columns]\n"
          ]
        },
        {
          "data": {
            "application/vnd.plotly.v1+json": {
              "config": {
                "plotlyServerURL": "https://plot.ly"
              },
              "data": [
                {
                  "coloraxis": "coloraxis",
                  "hovertemplate": "x: %{x}<br>y: %{y}<br>color: %{z}<extra></extra>",
                  "name": "0",
                  "texttemplate": "%{z}",
                  "type": "heatmap",
                  "x": [
                    "Age",
                    "Weight (kg)",
                    "Height (m)",
                    "Max_BPM",
                    "Avg_BPM",
                    "Resting_BPM",
                    "Session_Duration (hours)",
                    "Calories_Burned",
                    "Fat_Percentage",
                    "Water_Intake (liters)",
                    "Workout_Frequency (days/week)",
                    "Experience_Level",
                    "BMI",
                    "Daily meals frequency",
                    "Physical exercise",
                    "Carbs",
                    "Proteins",
                    "Fats",
                    "Calories",
                    "sugar_g",
                    "sodium_mg",
                    "cholesterol_mg",
                    "serving_size_g",
                    "prep_time_min",
                    "cook_time_min",
                    "rating",
                    "Sets",
                    "Reps",
                    "Burns Calories (per 30 min)",
                    "BMI_calc",
                    "cal_from_macros",
                    "pct_carbs",
                    "protein_per_kg",
                    "pct_HRR",
                    "pct_maxHR",
                    "cal_balance",
                    "lean_mass_kg",
                    "expected_burn",
                    "Burns Calories (per 30 min)_bc"
                  ],
                  "xaxis": "x",
                  "y": [
                    "Age",
                    "Weight (kg)",
                    "Height (m)",
                    "Max_BPM",
                    "Avg_BPM",
                    "Resting_BPM",
                    "Session_Duration (hours)",
                    "Calories_Burned",
                    "Fat_Percentage",
                    "Water_Intake (liters)",
                    "Workout_Frequency (days/week)",
                    "Experience_Level",
                    "BMI",
                    "Daily meals frequency",
                    "Physical exercise",
                    "Carbs",
                    "Proteins",
                    "Fats",
                    "Calories",
                    "sugar_g",
                    "sodium_mg",
                    "cholesterol_mg",
                    "serving_size_g",
                    "prep_time_min",
                    "cook_time_min",
                    "rating",
                    "Sets",
                    "Reps",
                    "Burns Calories (per 30 min)",
                    "BMI_calc",
                    "cal_from_macros",
                    "pct_carbs",
                    "protein_per_kg",
                    "pct_HRR",
                    "pct_maxHR",
                    "cal_balance",
                    "lean_mass_kg",
                    "expected_burn",
                    "Burns Calories (per 30 min)_bc"
                  ],
                  "yaxis": "y",
                  "z": [
                    [
                      1,
                      -0.04417011856587165,
                      -0.03701865460570012,
                      -0.028831873837678556,
                      0.039312548895636415,
                      0.013328270116815932,
                      -0.02540040128539955,
                      -0.02143626927164721,
                      -0.025169725182387085,
                      0.037602208720589114,
                      0.007120896538545682,
                      -0.02250416223979075,
                      -0.01709712010990311,
                      0.03790619789813105,
                      0.021602433633936356,
                      0.05205576867626346,
                      0.052262099480164255,
                      0.05215821950384835,
                      -0.041196755543159214,
                      0.011705447716331092,
                      0.044933100868243835,
                      0.012735581499740843,
                      0.00879687407649003,
                      -0.01115974530988562,
                      -0.009895227109862986,
                      -0.010751933724874265,
                      0.020305448770317317,
                      -0.028504550413760682,
                      0.005616524161337331,
                      -0.017094579497578442,
                      0.052134197287022184,
                      -0.004936775135366986,
                      0.06739768459337525,
                      0.04433396754927986,
                      0.048205100871577186,
                      -0.016032091211814852,
                      -0.05062123782178812,
                      -0.025906772689746255,
                      -0.020992627061667445
                    ],
                    [
                      -0.04417011856587165,
                      1,
                      0.35390588603957696,
                      0.06679143501090823,
                      0.01649785733586512,
                      -0.033607426662136744,
                      -0.0021533793115331074,
                      -0.0018616553512499285,
                      0.7788795961713555,
                      0.3979858786941696,
                      -0.00390756003152641,
                      0.016567349891081818,
                      0.8555688429059982,
                      0.041947167225368676,
                      -0.008207722788369922,
                      -0.0035575378493509506,
                      -0.003482571291891286,
                      -0.003615202004779431,
                      0.9782671461211678,
                      -0.007398304628425312,
                      -0.013664639904749837,
                      0.019582308342057722,
                      0.038125571430777896,
                      -0.02141996346322265,
                      -0.03807159746253728,
                      -0.015692513731922014,
                      0.008517084045998326,
                      -0.026712188442717454,
                      0.0904698520816089,
                      0.8555681657492247,
                      -0.003560286526727208,
                      -0.0012655398611249949,
                      -0.7267497394615733,
                      -0.016809330250535433,
                      -0.023268856314061965,
                      0.7366320405469093,
                      0.9818932250674055,
                      0.02433155353967126,
                      0.25337393766625704
                    ],
                    [
                      -0.03701865460570012,
                      0.35390588603957696,
                      1,
                      -0.01429918987199285,
                      -0.012197003250436197,
                      0.009877340956606131,
                      0.006841936411777843,
                      0.009385601047511564,
                      -0.15649047296277946,
                      0.3980713912080947,
                      0.0074299300632923735,
                      0.015666020228917953,
                      -0.16692162586442608,
                      -0.013680262818310527,
                      0.014746145812423318,
                      0.00829631628598505,
                      0.007927377433595981,
                      0.008080388937857732,
                      0.34710333003676486,
                      -0.0191266174411522,
                      0.00969448426625077,
                      0.02812938918971643,
                      0.03699768879525259,
                      0.04575104687624313,
                      -0.018429550592710946,
                      0.01686489309176782,
                      -0.017507966053410713,
                      0.0038477708666973536,
                      0.06530642258690168,
                      -0.16692469825260084,
                      0.008158749364419016,
                      0.01245049593705481,
                      -0.2462108348496438,
                      -0.012488027835049133,
                      -0.005517416210721895,
                      0.25436870842743065,
                      0.4775375468789503,
                      0.029195596979007813,
                      0.10378938296994993
                    ],
                    [
                      -0.028831873837678556,
                      0.06679143501090823,
                      -0.01429918987199285,
                      1,
                      -0.028090207109812936,
                      0.03552754885905194,
                      0.009770526846746156,
                      0.0030830719989148737,
                      0.07181548170251431,
                      0.041628708750770856,
                      -0.03840343904003366,
                      -0.003698184497412143,
                      0.07335104759294493,
                      -0.024600136095723726,
                      -0.013756112523900584,
                      -0.010649356908324376,
                      -0.010579405726886523,
                      -0.010533246779518581,
                      0.061040242660515144,
                      0.04570929346865165,
                      0.020716498340421434,
                      -0.016928224152130803,
                      -0.03575229197289318,
                      0.004458285721313496,
                      -0.016443850939546638,
                      -0.05624922049515293,
                      -0.030391418783928682,
                      -0.04188753759682484,
                      -0.022855046239176564,
                      0.07334651179612002,
                      -0.010601834991328074,
                      -0.004317582918182857,
                      -0.05593265454510653,
                      -0.5119192968056455,
                      -0.5594907352906444,
                      0.043734252530920045,
                      0.060057427499465195,
                      0.0035032967119545287,
                      -0.02975954779078755
                    ],
                    [
                      0.039312548895636415,
                      0.01649785733586512,
                      -0.012197003250436197,
                      -0.028090207109812936,
                      1,
                      0.06310036117689356,
                      0.01867034432657382,
                      0.008174930797952049,
                      0.008947384833113846,
                      0.006089305154133509,
                      -0.020787430925145383,
                      -0.005487515504409904,
                      0.028654058676820908,
                      0.036681354472225765,
                      -0.02550502606907237,
                      0.03304142916529531,
                      0.033334721707590644,
                      0.03297988303708264,
                      0.0142338627754245,
                      -0.04615787177958466,
                      0.01779851435907762,
                      -0.013460720415468752,
                      0.01768340945959351,
                      0.0044321246872498134,
                      -0.023007285026676892,
                      -0.01873063306456152,
                      -0.04623093586623906,
                      -0.03138761705076753,
                      -0.07346666138712059,
                      0.02865232499273534,
                      0.03308569394849374,
                      -0.005054103575043765,
                      0.01821386867636824,
                      0.8567169192639719,
                      0.841872357240916,
                      0.005003834776963069,
                      0.011810081415972042,
                      -0.005300277235003496,
                      -0.05856229012498037
                    ],
                    [
                      0.013328270116815932,
                      -0.033607426662136744,
                      0.009877340956606131,
                      0.03552754885905194,
                      0.06310036117689356,
                      1,
                      -0.017508455864768985,
                      -0.0015674576574905993,
                      -0.042060925468443755,
                      0.0117317105433585,
                      -0.005415764314627136,
                      -0.0007529637446457794,
                      -0.040764898915729327,
                      0.040457217125324685,
                      0.015352871315359312,
                      0.0425189656185636,
                      0.042814574020458136,
                      0.04295252220777722,
                      -0.0346942273401422,
                      0.03419617043923358,
                      0.05160812960064585,
                      -0.030470855709368437,
                      -0.0044257258481308695,
                      -0.008267565860017981,
                      -0.033140362532768114,
                      -0.0005116931945827548,
                      0.0029885061094369345,
                      0.0011767545670777865,
                      0.03772331738568569,
                      -0.04076247142689245,
                      0.04271343661981341,
                      -0.0165295205359921,
                      0.06588034404063457,
                      -0.08842406863447835,
                      0.03501814585721023,
                      -0.024986621531260307,
                      -0.030836107509933618,
                      -0.004673032097961995,
                      -0.0009262246546435849
                    ],
                    [
                      -0.02540040128539955,
                      -0.0021533793115331074,
                      0.006841936411777843,
                      0.009770526846746156,
                      0.01867034432657382,
                      -0.017508455864768985,
                      1,
                      0.8143758485708156,
                      -0.034829966401042106,
                      0.2877867888347471,
                      0.6376335782483237,
                      0.7584628183632638,
                      -0.004169500805729911,
                      0.02243749399973868,
                      0.04875702366388019,
                      0.010537631821208477,
                      0.010309904851697523,
                      0.010389122397505354,
                      0.051596465554773714,
                      -0.010816928632839088,
                      -0.014393600910308654,
                      0.09251398902311003,
                      0.04505654460588506,
                      -0.0031796809845289565,
                      -0.055489214517645324,
                      0.02214928320714214,
                      0.01141921660042431,
                      0.033396085183752505,
                      -0.011995350250346641,
                      -0.004167965128476845,
                      0.01044881650499994,
                      0.007830876640260805,
                      -0.042991249802476816,
                      0.01792079179741118,
                      0.011044287743116705,
                      -0.528579429831138,
                      0.025297954165080988,
                      0.944114281536926,
                      -0.030751902152646796
                    ],
                    [
                      -0.02143626927164721,
                      -0.0018616553512499285,
                      0.009385601047511564,
                      0.0030830719989148737,
                      0.008174930797952049,
                      -0.0015674576574905993,
                      0.8143758485708156,
                      1,
                      -0.03384474925151993,
                      0.2628089304050958,
                      0.5827114599721684,
                      0.6970807994032219,
                      -0.004435804916954464,
                      0.02797074692161833,
                      0.04888598005475846,
                      0.011783867883720963,
                      0.011456709651627138,
                      0.011624760386790866,
                      0.048100731689664875,
                      -0.003064525139328572,
                      -0.009279420215296045,
                      0.07219517064830476,
                      0.029359035632802035,
                      -0.002824750823109079,
                      -0.061663604443504036,
                      0.025518477751476972,
                      0.024030228042297982,
                      0.04334518043551655,
                      0.006605558096992393,
                      -0.004436697877241118,
                      0.011672138411754263,
                      0.009439451549420604,
                      -0.0361896112861396,
                      0.010682237046581933,
                      0.006289437315551212,
                      -0.6605285330953992,
                      0.023299338392234543,
                      0.7739442104500825,
                      -0.013376132410607068
                    ],
                    [
                      -0.025169725182387085,
                      0.7788795961713555,
                      -0.15649047296277946,
                      0.07181548170251431,
                      0.008947384833113846,
                      -0.042060925468443755,
                      -0.034829966401042106,
                      -0.03384474925151993,
                      1,
                      0.18522247746478138,
                      -0.03945237575008545,
                      -0.03329700999750482,
                      0.9023990069407875,
                      0.05276613088953547,
                      -0.009791811104140728,
                      -0.012555185773710204,
                      -0.012400654814483386,
                      -0.012595916155148313,
                      0.7595871603103349,
                      -0.003700238629785115,
                      -0.01701917874425454,
                      0.004867737660331513,
                      0.018097832875201378,
                      -0.04306388434259622,
                      -0.016272658482366566,
                      -0.026042066680512073,
                      0.006706456377380186,
                      -0.03394724433182383,
                      0.05443035243361401,
                      0.902399688933367,
                      -0.01253804795773667,
                      -0.00343774671814919,
                      -0.6033955491487862,
                      -0.020678674957095338,
                      -0.030783922476280406,
                      0.5945387591125094,
                      0.6590681633271733,
                      -0.018932530145618333,
                      0.1788640656896277
                    ],
                    [
                      0.037602208720589114,
                      0.3979858786941696,
                      0.3980713912080947,
                      0.041628708750770856,
                      0.006089305154133509,
                      0.0117317105433585,
                      0.2877867888347471,
                      0.2628089304050958,
                      0.18522247746478138,
                      1,
                      0.2413043849705529,
                      0.31233019052201133,
                      0.21409444765791424,
                      0.03449895517127032,
                      0.09150850478612518,
                      0.045288689506412516,
                      0.04512794195301251,
                      0.04511703858616241,
                      0.41173355576549137,
                      0.05132755545971672,
                      0.012089588190819133,
                      0.023689221262379063,
                      0.005487290641816853,
                      0.03225846842684364,
                      -0.008356631665620336,
                      0.03746556991361967,
                      0.005138687707825173,
                      -0.03262322070542491,
                      0.026132250373357993,
                      0.21409316945524845,
                      0.045210609291355806,
                      0.006061560737645602,
                      -0.2817452923638787,
                      -0.019896987334865588,
                      -0.01828542564513282,
                      0.1263932804731642,
                      0.43526117752912974,
                      0.28139744830123986,
                      0.0727449563492009
                    ],
                    [
                      0.007120896538545682,
                      -0.00390756003152641,
                      0.0074299300632923735,
                      -0.03840343904003366,
                      -0.020787430925145383,
                      -0.005415764314627136,
                      0.6376335782483237,
                      0.5827114599721684,
                      -0.03945237575008545,
                      0.2413043849705529,
                      1,
                      0.8361107273536309,
                      0.00037873897340178397,
                      0.04935212840809175,
                      0.06594528404380143,
                      0.024403041743377374,
                      0.0243472275743363,
                      0.024615243520743763,
                      0.08210296169109463,
                      0.03978686038128718,
                      -0.06562304678341359,
                      0.010848508160429454,
                      0.02562286298472621,
                      0.008335529680419028,
                      -0.08294760501242723,
                      0.01118173882795798,
                      0.059248015436071694,
                      0.06284834810336475,
                      0.0441767527111321,
                      0.00037966149058264617,
                      0.02445856532392762,
                      -0.00435320561560087,
                      -0.03565256693543511,
                      0.002403522364019521,
                      0.0024689509016771706,
                      -0.34425160188772946,
                      0.024765963044672268,
                      0.6189207583135627,
                      0.01122885612793515
                    ],
                    [
                      -0.02250416223979075,
                      0.016567349891081818,
                      0.015666020228917953,
                      -0.003698184497412143,
                      -0.005487515504409904,
                      -0.0007529637446457794,
                      0.7584628183632638,
                      0.6970807994032219,
                      -0.03329700999750482,
                      0.31233019052201133,
                      0.8361107273536309,
                      1,
                      0.016333005551232186,
                      0.02871266258581323,
                      0.06715532647747788,
                      0.031582726141717296,
                      0.03133534958650396,
                      0.03164373713162217,
                      0.08797023609513667,
                      0.004584412807447111,
                      -0.02943690290771354,
                      0.01582167719586514,
                      0.02741723887343773,
                      -0.0008376792248463433,
                      -0.08723775497703072,
                      0.050350364467605754,
                      0.0581676143455494,
                      0.054953686067109736,
                      0.05170424019632213,
                      0.016334288957748362,
                      0.03155544922896661,
                      0.003434641281143053,
                      -0.051134588156548116,
                      0.004191285719529017,
                      -0.00012863687939976599,
                      -0.4195206831398885,
                      0.04876858120126454,
                      0.7357017590908864,
                      0.01921259525767317
                    ],
                    [
                      -0.01709712010990311,
                      0.8555688429059982,
                      -0.16692162586442608,
                      0.07335104759294493,
                      0.028654058676820908,
                      -0.040764898915729327,
                      -0.004169500805729911,
                      -0.004435804916954464,
                      0.9023990069407875,
                      0.21409444765791424,
                      0.00037873897340178397,
                      0.016333005551232186,
                      1,
                      0.058119142455911536,
                      -0.010702538197512143,
                      -0.003796030608564282,
                      -0.0035634849040382843,
                      -0.0037634434935383963,
                      0.8375035336777266,
                      0.000877998556343726,
                      -0.02080254563661419,
                      0.00035928733815852014,
                      0.026333497346486757,
                      -0.039218892996350896,
                      -0.02810585771404764,
                      -0.030546752335196544,
                      0.022311078074824048,
                      -0.030144940043773934,
                      0.0626424178290556,
                      0.9999999066490957,
                      -0.003740207631817736,
                      -0.006470631334784763,
                      -0.6346372769239708,
                      -0.004794297704707321,
                      -0.015224470488389843,
                      0.6326174837464013,
                      0.7692784531811233,
                      0.01277544080560826,
                      0.21121279669304943
                    ],
                    [
                      0.03790619789813105,
                      0.041947167225368676,
                      -0.013680262818310527,
                      -0.024600136095723726,
                      0.036681354472225765,
                      0.040457217125324685,
                      0.02243749399973868,
                      0.02797074692161833,
                      0.05276613088953547,
                      0.03449895517127032,
                      0.04935212840809175,
                      0.02871266258581323,
                      0.058119142455911536,
                      1,
                      -0.00036324176094899266,
                      0.12692684104051502,
                      0.12684318214340226,
                      0.12679649214947009,
                      0.04619713212446533,
                      0.03838322194578243,
                      0.010568409642081,
                      0.009090952088254957,
                      0.03117247748855636,
                      0.036212211869831215,
                      -0.04001805304404168,
                      0.012091911997892871,
                      0.02441853599756728,
                      0.030358014199764763,
                      0.04658485691643802,
                      0.058119540963699125,
                      0.12688663538917336,
                      0.006835681949974266,
                      0.04254158311054553,
                      0.04342328680478553,
                      0.045959854867771224,
                      0.015238260304846934,
                      0.03454810372836584,
                      0.03551695998986661,
                      0.04420843655208757
                    ],
                    [
                      0.021602433633936356,
                      -0.008207722788369922,
                      0.014746145812423318,
                      -0.013756112523900584,
                      -0.02550502606907237,
                      0.015352871315359312,
                      0.04875702366388019,
                      0.04888598005475846,
                      -0.009791811104140728,
                      0.09150850478612518,
                      0.06594528404380143,
                      0.06715532647747788,
                      -0.010702538197512143,
                      -0.00036324176094899266,
                      1,
                      0.6439984215762472,
                      0.6439340843782478,
                      0.643855869440096,
                      0.03406924919006134,
                      0.06930995894178095,
                      0.01396193389206089,
                      -0.05889209075836373,
                      0.02188175920269652,
                      -0.017457924590782842,
                      -0.026405793896143653,
                      0.0069386851701238985,
                      -0.015201350057789047,
                      -0.03657910907126191,
                      0.03767001230985727,
                      -0.01070073690932865,
                      0.6440221459953427,
                      0.0022751754364681537,
                      0.38835530454478745,
                      -0.02213480181607497,
                      -0.014930658842965863,
                      -0.00844923558851901,
                      -0.0014757700533646948,
                      0.0614152744366432,
                      0.06577491532474539
                    ],
                    [
                      0.05205576867626346,
                      -0.0035575378493509506,
                      0.00829631628598505,
                      -0.010649356908324376,
                      0.03304142916529531,
                      0.0425189656185636,
                      0.010537631821208477,
                      0.011783867883720963,
                      -0.012555185773710204,
                      0.045288689506412516,
                      0.024403041743377374,
                      0.031582726141717296,
                      -0.003796030608564282,
                      0.12692684104051502,
                      0.6439984215762472,
                      1,
                      0.9995948479721294,
                      0.9996053711793846,
                      0.020675550897273492,
                      0.06529350065181909,
                      0.014726475897445196,
                      -0.04630937231567324,
                      0.019095339946580036,
                      0.008582890815477973,
                      0.005664162283236541,
                      0.02661876143647794,
                      0.009697769672870964,
                      -0.07472897276928811,
                      -0.0027255998042149225,
                      -0.0037895105929630726,
                      0.9999237882640237,
                      0.01150483839991687,
                      0.6228287933242028,
                      0.023055573033926274,
                      0.03143504017182979,
                      0.007331574616359498,
                      -0.0017857898356698643,
                      0.01015816280359898,
                      0.044484635035511484
                    ],
                    [
                      0.052262099480164255,
                      -0.003482571291891286,
                      0.007927377433595981,
                      -0.010579405726886523,
                      0.033334721707590644,
                      0.042814574020458136,
                      0.010309904851697523,
                      0.011456709651627138,
                      -0.012400654814483386,
                      0.04512794195301251,
                      0.0243472275743363,
                      0.03133534958650396,
                      -0.0035634849040382843,
                      0.12684318214340226,
                      0.6439340843782478,
                      0.9995948479721294,
                      1,
                      0.9996081263907582,
                      0.020730720129563673,
                      0.06542988936625217,
                      0.014852874059881817,
                      -0.04622623945105848,
                      0.019262519661456104,
                      0.008527379569413676,
                      0.005522898720938664,
                      0.026421594751419728,
                      0.009376532086183057,
                      -0.07449366614127925,
                      -0.0027460820645646583,
                      -0.003556870399569517,
                      0.9998030648624066,
                      -0.010975737012061197,
                      0.6231153775484514,
                      0.02322471546893705,
                      0.03163789490148656,
                      0.007600969784770996,
                      -0.001771350671721683,
                      0.009912861753401678,
                      0.04448288435157469
                    ],
                    [
                      0.05215821950384835,
                      -0.003615202004779431,
                      0.008080388937857732,
                      -0.010533246779518581,
                      0.03297988303708264,
                      0.04295252220777722,
                      0.010389122397505354,
                      0.011624760386790866,
                      -0.012595916155148313,
                      0.04511703858616241,
                      0.024615243520743763,
                      0.03164373713162217,
                      -0.0037634434935383963,
                      0.12679649214947009,
                      0.643855869440096,
                      0.9996053711793846,
                      0.9996081263907582,
                      1,
                      0.020589249339368974,
                      0.06554672768402366,
                      0.014776454959980645,
                      -0.0463235047371238,
                      0.019148636893759927,
                      0.008395493584160722,
                      0.0055442172234989855,
                      0.02683125785233723,
                      0.009350472172807005,
                      -0.07469981023710419,
                      -0.0027415872891689915,
                      -0.00375689775749458,
                      0.9998475445315128,
                      -0.013747587528794321,
                      0.6229600038422541,
                      0.022873974308406944,
                      0.031311933967712556,
                      0.007377551957499474,
                      -0.0018613603124313194,
                      0.009992297544668943,
                      0.044466976324641125
                    ],
                    [
                      -0.041196755543159214,
                      0.9782671461211678,
                      0.34710333003676486,
                      0.061040242660515144,
                      0.0142338627754245,
                      -0.0346942273401422,
                      0.051596465554773714,
                      0.048100731689664875,
                      0.7595871603103349,
                      0.41173355576549137,
                      0.08210296169109463,
                      0.08797023609513667,
                      0.8375035336777266,
                      0.04619713212446533,
                      0.03406924919006134,
                      0.020675550897273492,
                      0.020730720129563673,
                      0.020589249339368974,
                      1,
                      -0.0000120436744329793,
                      -0.017678348031809225,
                      0.020799504995666872,
                      0.041569923643513335,
                      -0.02055868615831547,
                      -0.0437910158874345,
                      -0.014708797924045542,
                      0.012913766371311093,
                      -0.02210199609073354,
                      0.09349623271127382,
                      0.837502519187424,
                      0.020663235414370224,
                      0.00011065147907388012,
                      -0.7014368292369291,
                      -0.015891152195282483,
                      -0.022158430095367537,
                      0.7181599782112484,
                      0.9629289705557171,
                      0.07653008669663366,
                      0.2506470982575078
                    ],
                    [
                      0.011705447716331092,
                      -0.007398304628425312,
                      -0.0191266174411522,
                      0.04570929346865165,
                      -0.04615787177958466,
                      0.03419617043923358,
                      -0.010816928632839088,
                      -0.003064525139328572,
                      -0.003700238629785115,
                      0.05132755545971672,
                      0.03978686038128718,
                      0.004584412807447111,
                      0.000877998556343726,
                      0.03838322194578243,
                      0.06930995894178095,
                      0.06529350065181909,
                      0.06542988936625217,
                      0.06554672768402366,
                      -0.0000120436744329793,
                      1,
                      -0.020429149001796834,
                      -0.02679057502915735,
                      -0.004724691387423616,
                      -0.0287592058920223,
                      -0.056107034915970445,
                      0.020216779367530652,
                      -0.020445499995653333,
                      -0.038843875960490166,
                      -0.0841892792339559,
                      0.0008802330161977439,
                      0.06540481785987814,
                      -0.009749728362488445,
                      0.05258517301944724,
                      -0.06971424332872495,
                      -0.0664211534815916,
                      0.002125954156895615,
                      -0.009731585046578168,
                      -0.037622683346786326,
                      -0.07015545935980555
                    ],
                    [
                      0.044933100868243835,
                      -0.013664639904749837,
                      0.00969448426625077,
                      0.020716498340421434,
                      0.01779851435907762,
                      0.05160812960064585,
                      -0.014393600910308654,
                      -0.009279420215296045,
                      -0.01701917874425454,
                      0.012089588190819133,
                      -0.06562304678341359,
                      -0.02943690290771354,
                      -0.02080254563661419,
                      0.010568409642081,
                      0.01396193389206089,
                      0.014726475897445196,
                      0.014852874059881817,
                      0.014776454959980645,
                      -0.017678348031809225,
                      -0.020429149001796834,
                      1,
                      0.010789469784222377,
                      -0.01799947859727178,
                      -0.04172056963557737,
                      -0.05747268326032223,
                      0.018063427233652153,
                      -0.06534103895309591,
                      -0.039161580119147346,
                      -0.022804042460848804,
                      -0.020807297390267602,
                      0.014768570137099788,
                      -0.0028699231647594673,
                      0.018620744377323722,
                      -0.0018765686059261297,
                      0.002784377158878505,
                      -0.006823473878196004,
                      -0.011834274760211304,
                      -0.024063119441328332,
                      0.000778034112126097
                    ],
                    [
                      0.012735581499740843,
                      0.019582308342057722,
                      0.02812938918971643,
                      -0.016928224152130803,
                      -0.013460720415468752,
                      -0.030470855709368437,
                      0.09251398902311003,
                      0.07219517064830476,
                      0.004867737660331513,
                      0.023689221262379063,
                      0.010848508160429454,
                      0.01582167719586514,
                      0.00035928733815852014,
                      0.009090952088254957,
                      -0.05889209075836373,
                      -0.04630937231567324,
                      -0.04622623945105848,
                      -0.0463235047371238,
                      0.020799504995666872,
                      -0.02679057502915735,
                      0.010789469784222377,
                      1,
                      0.045752637281163855,
                      0.023135791331035646,
                      -0.016368217514555868,
                      0.04789493465245074,
                      -0.0037559974295441993,
                      -0.03663068119900931,
                      -0.036790789337673734,
                      0.0003629481877958243,
                      -0.04630269327828104,
                      0.0020969377459299143,
                      -0.043388700418040944,
                      0.0005325799861096528,
                      -0.002646048214368437,
                      -0.03466286844637683,
                      0.02330736074881095,
                      0.07505936960573815,
                      -0.04153987487422741
                    ],
                    [
                      0.00879687407649003,
                      0.038125571430777896,
                      0.03699768879525259,
                      -0.03575229197289318,
                      0.01768340945959351,
                      -0.0044257258481308695,
                      0.04505654460588506,
                      0.029359035632802035,
                      0.018097832875201378,
                      0.005487290641816853,
                      0.02562286298472621,
                      0.02741723887343773,
                      0.026333497346486757,
                      0.03117247748855636,
                      0.02188175920269652,
                      0.019095339946580036,
                      0.019262519661456104,
                      0.019148636893759927,
                      0.041569923643513335,
                      -0.004724691387423616,
                      -0.01799947859727178,
                      0.045752637281163855,
                      1,
                      -0.014031587373366116,
                      0.010854068586271503,
                      0.017754704015287875,
                      -0.03427727544039463,
                      -0.05151590063199726,
                      -0.01739941435834921,
                      0.026339115685207585,
                      0.019147125071803578,
                      -0.002364122692053419,
                      -0.0210403551100281,
                      0.03348373900824059,
                      0.03310961599208728,
                      0.010792922661243255,
                      0.04132611125556272,
                      0.04014548160023154,
                      0.0006026230378380982
                    ],
                    [
                      -0.01115974530988562,
                      -0.02141996346322265,
                      0.04575104687624313,
                      0.004458285721313496,
                      0.0044321246872498134,
                      -0.008267565860017981,
                      -0.0031796809845289565,
                      -0.002824750823109079,
                      -0.04306388434259622,
                      0.03225846842684364,
                      0.008335529680419028,
                      -0.0008376792248463433,
                      -0.039218892996350896,
                      0.036212211869831215,
                      -0.017457924590782842,
                      0.008582890815477973,
                      0.008527379569413676,
                      0.008395493584160722,
                      -0.02055868615831547,
                      -0.0287592058920223,
                      -0.04172056963557737,
                      0.023135791331035646,
                      -0.014031587373366116,
                      1,
                      -0.000334142275847007,
                      0.03737907515526086,
                      -0.018616057880809455,
                      -0.0019135815058000142,
                      -0.0572776587538639,
                      -0.03921888556801576,
                      0.00851660987979323,
                      0.0044670248724727486,
                      0.025731729399136486,
                      0.0028630963704535765,
                      -0.00038864031437128025,
                      -0.01348540839962942,
                      -0.015221820176104482,
                      -0.021503868332059244,
                      -0.05941493300322302
                    ],
                    [
                      -0.009895227109862986,
                      -0.03807159746253728,
                      -0.018429550592710946,
                      -0.016443850939546638,
                      -0.023007285026676892,
                      -0.033140362532768114,
                      -0.055489214517645324,
                      -0.061663604443504036,
                      -0.016272658482366566,
                      -0.008356631665620336,
                      -0.08294760501242723,
                      -0.08723775497703072,
                      -0.02810585771404764,
                      -0.04001805304404168,
                      -0.026405793896143653,
                      0.005664162283236541,
                      0.005522898720938664,
                      0.0055442172234989855,
                      -0.0437910158874345,
                      -0.056107034915970445,
                      -0.05747268326032223,
                      -0.016368217514555868,
                      0.010854068586271503,
                      -0.000334142275847007,
                      1,
                      0.02971734130977523,
                      0.016671422681464206,
                      -0.035787389712012535,
                      -0.010567088555096905,
                      -0.028098835864911582,
                      0.00560061184656931,
                      0.004067100533504767,
                      0.04743659575308565,
                      -0.008014785698137902,
                      -0.009532897609840208,
                      0.010043637722510561,
                      -0.04357859918636794,
                      -0.05779036827653919,
                      -0.007257752245637217
                    ],
                    [
                      -0.010751933724874265,
                      -0.015692513731922014,
                      0.01686489309176782,
                      -0.05624922049515293,
                      -0.01873063306456152,
                      -0.0005116931945827548,
                      0.02214928320714214,
                      0.025518477751476972,
                      -0.026042066680512073,
                      0.03746556991361967,
                      0.01118173882795798,
                      0.050350364467605754,
                      -0.030546752335196544,
                      0.012091911997892871,
                      0.0069386851701238985,
                      0.02661876143647794,
                      0.026421594751419728,
                      0.02683125785233723,
                      -0.014708797924045542,
                      0.020216779367530652,
                      0.018063427233652153,
                      0.04789493465245074,
                      0.017754704015287875,
                      0.03737907515526086,
                      0.02971734130977523,
                      1,
                      0.025239536725662762,
                      0.022705387717132822,
                      -0.017404645527706493,
                      -0.030541270016523347,
                      0.026646374403809986,
                      0.0008746082935877008,
                      0.026188124167206804,
                      0.01075849173759118,
                      0.01608622498638087,
                      -0.02883450385659632,
                      -0.00947637604079203,
                      0.017087321558213516,
                      -0.01722450754888382
                    ],
                    [
                      0.020305448770317317,
                      0.008517084045998326,
                      -0.017507966053410713,
                      -0.030391418783928682,
                      -0.04623093586623906,
                      0.0029885061094369345,
                      0.01141921660042431,
                      0.024030228042297982,
                      0.006706456377380186,
                      0.005138687707825173,
                      0.059248015436071694,
                      0.0581676143455494,
                      0.022311078074824048,
                      0.02441853599756728,
                      -0.015201350057789047,
                      0.009697769672870964,
                      0.009376532086183057,
                      0.009350472172807005,
                      0.012913766371311093,
                      -0.020445499995653333,
                      -0.06534103895309591,
                      -0.0037559974295441993,
                      -0.03427727544039463,
                      -0.018616057880809455,
                      0.016671422681464206,
                      0.025239536725662762,
                      1,
                      0.2104654927369461,
                      0.465487716278606,
                      0.02230876680833573,
                      0.009530493518581202,
                      0.012300186539620263,
                      -0.0024627116501556167,
                      -0.020215359719284537,
                      -0.02009947482107359,
                      -0.007034582598982606,
                      0.009503077136034219,
                      0.15943974124863164,
                      0.3149399959767355
                    ],
                    [
                      -0.028504550413760682,
                      -0.026712188442717454,
                      0.0038477708666973536,
                      -0.04188753759682484,
                      -0.03138761705076753,
                      0.0011767545670777865,
                      0.033396085183752505,
                      0.04334518043551655,
                      -0.03394724433182383,
                      -0.03262322070542491,
                      0.06284834810336475,
                      0.054953686067109736,
                      -0.030144940043773934,
                      0.030358014199764763,
                      -0.03657910907126191,
                      -0.07472897276928811,
                      -0.07449366614127925,
                      -0.07469981023710419,
                      -0.02210199609073354,
                      -0.038843875960490166,
                      -0.039161580119147346,
                      -0.03663068119900931,
                      -0.05151590063199726,
                      -0.0019135815058000142,
                      -0.035787389712012535,
                      0.022705387717132822,
                      0.2104654927369461,
                      1,
                      0.3430625818661414,
                      -0.030146939726280436,
                      -0.07468236753577091,
                      -0.0033087283364612564,
                      -0.03033480727611365,
                      -0.0038084287141241756,
                      -0.0043134694272187486,
                      -0.04681134330247194,
                      -0.023363886034726458,
                      0.14422951424073283,
                      0.2682095959196929
                    ],
                    [
                      0.005616524161337331,
                      0.0904698520816089,
                      0.06530642258690168,
                      -0.022855046239176564,
                      -0.07346666138712059,
                      0.03772331738568569,
                      -0.011995350250346641,
                      0.006605558096992393,
                      0.05443035243361401,
                      0.026132250373357993,
                      0.0441767527111321,
                      0.05170424019632213,
                      0.0626424178290556,
                      0.04658485691643802,
                      0.03767001230985727,
                      -0.0027255998042149225,
                      -0.0027460820645646583,
                      -0.0027415872891689915,
                      0.09349623271127382,
                      -0.0841892792339559,
                      -0.022804042460848804,
                      -0.036790789337673734,
                      -0.01739941435834921,
                      -0.0572776587538639,
                      -0.010567088555096905,
                      -0.017404645527706493,
                      0.465487716278606,
                      0.3430625818661414,
                      1,
                      0.06264006104454183,
                      -0.0027348300820356493,
                      -0.0007410589182995415,
                      -0.08083850713835279,
                      -0.055124818420162584,
                      -0.04810134692358605,
                      0.06567641804643785,
                      0.09745314783130503,
                      0.3119398773383127,
                      0.8145602143478307
                    ],
                    [
                      -0.017094579497578442,
                      0.8555681657492247,
                      -0.16692469825260084,
                      0.07334651179612002,
                      0.02865232499273534,
                      -0.04076247142689245,
                      -0.004167965128476845,
                      -0.004436697877241118,
                      0.902399688933367,
                      0.21409316945524845,
                      0.00037966149058264617,
                      0.016334288957748362,
                      0.9999999066490957,
                      0.058119540963699125,
                      -0.01070073690932865,
                      -0.0037895105929630726,
                      -0.003556870399569517,
                      -0.00375689775749458,
                      0.837502519187424,
                      0.0008802330161977439,
                      -0.020807297390267602,
                      0.0003629481877958243,
                      0.026339115685207585,
                      -0.03921888556801576,
                      -0.028098835864911582,
                      -0.030541270016523347,
                      0.02230876680833573,
                      -0.030146939726280436,
                      0.06264006104454183,
                      1,
                      -0.003733660195369529,
                      -0.006473153353729707,
                      -0.6346324408465327,
                      -0.004794297926737693,
                      -0.015223812270772224,
                      0.6326173432950005,
                      0.7692775394366973,
                      0.012775975891663894,
                      0.2112090188868827
                    ],
                    [
                      0.052134197287022184,
                      -0.003560286526727208,
                      0.008158749364419016,
                      -0.010601834991328074,
                      0.03308569394849374,
                      0.04271343661981341,
                      0.01044881650499994,
                      0.011672138411754263,
                      -0.01253804795773667,
                      0.045210609291355806,
                      0.02445856532392762,
                      0.03155544922896661,
                      -0.003740207631817736,
                      0.12688663538917336,
                      0.6440221459953427,
                      0.9999237882640237,
                      0.9998030648624066,
                      0.9998475445315128,
                      0.020663235414370224,
                      0.06540481785987814,
                      0.014768570137099788,
                      -0.04630269327828104,
                      0.019147125071803578,
                      0.00851660987979323,
                      0.00560061184656931,
                      0.026646374403809986,
                      0.009530493518581202,
                      -0.07468236753577091,
                      -0.0027348300820356493,
                      -0.003733660195369529,
                      1,
                      -0.0005680929969980946,
                      0.6230022501217755,
                      0.02303774917603113,
                      0.03144254487110431,
                      0.007400157611578278,
                      -0.001805799810145414,
                      0.01006057740537863,
                      0.044484468293897565
                    ],
                    [
                      -0.004936775135366986,
                      -0.0012655398611249949,
                      0.01245049593705481,
                      -0.004317582918182857,
                      -0.005054103575043765,
                      -0.0165295205359921,
                      0.007830876640260805,
                      0.009439451549420604,
                      -0.00343774671814919,
                      0.006061560737645602,
                      -0.00435320561560087,
                      0.003434641281143053,
                      -0.006470631334784763,
                      0.006835681949974266,
                      0.0022751754364681537,
                      0.01150483839991687,
                      -0.010975737012061197,
                      -0.013747587528794321,
                      0.00011065147907388012,
                      -0.009749728362488445,
                      -0.0028699231647594673,
                      0.0020969377459299143,
                      -0.002364122692053419,
                      0.0044670248724727486,
                      0.004067100533504767,
                      0.0008746082935877008,
                      0.012300186539620263,
                      -0.0033087283364612564,
                      -0.0007410589182995415,
                      -0.006473153353729707,
                      -0.0005680929969980946,
                      1,
                      -0.010177168340744867,
                      0.0005811810060363957,
                      -0.0015571609036856924,
                      -0.006493145683929426,
                      0.0005647069141527038,
                      0.008069365059849046,
                      -0.0017511281394286568
                    ],
                    [
                      0.06739768459337525,
                      -0.7267497394615733,
                      -0.2462108348496438,
                      -0.05593265454510653,
                      0.01821386867636824,
                      0.06588034404063457,
                      -0.042991249802476816,
                      -0.0361896112861396,
                      -0.6033955491487862,
                      -0.2817452923638787,
                      -0.03565256693543511,
                      -0.051134588156548116,
                      -0.6346372769239708,
                      0.04254158311054553,
                      0.38835530454478745,
                      0.6228287933242028,
                      0.6231153775484514,
                      0.6229600038422541,
                      -0.7014368292369291,
                      0.05258517301944724,
                      0.018620744377323722,
                      -0.043388700418040944,
                      -0.0210403551100281,
                      0.025731729399136486,
                      0.04743659575308565,
                      0.026188124167206804,
                      -0.0024627116501556167,
                      -0.03033480727611365,
                      -0.08083850713835279,
                      -0.6346324408465327,
                      0.6230022501217755,
                      -0.010177168340744867,
                      1,
                      0.03314212060694319,
                      0.04548196718999111,
                      -0.5020369904369969,
                      -0.722182775007371,
                      -0.06339372592645295,
                      -0.15768290672363244
                    ],
                    [
                      0.04433396754927986,
                      -0.016809330250535433,
                      -0.012488027835049133,
                      -0.5119192968056455,
                      0.8567169192639719,
                      -0.08842406863447835,
                      0.01792079179741118,
                      0.010682237046581933,
                      -0.020678674957095338,
                      -0.019896987334865588,
                      0.002403522364019521,
                      0.004191285719529017,
                      -0.004794297704707321,
                      0.04342328680478553,
                      -0.02213480181607497,
                      0.023055573033926274,
                      0.02322471546893705,
                      0.022873974308406944,
                      -0.015891152195282483,
                      -0.06971424332872495,
                      -0.0018765686059261297,
                      0.0005325799861096528,
                      0.03348373900824059,
                      0.0028630963704535765,
                      -0.008014785698137902,
                      0.01075849173759118,
                      -0.020215359719284537,
                      -0.0038084287141241756,
                      -0.055124818420162584,
                      -0.004794297926737693,
                      0.02303774917603113,
                      0.0005811810060363957,
                      0.03314212060694319,
                      1,
                      0.9884855669319657,
                      -0.019387066961904065,
                      -0.018657378097831388,
                      -0.0008782067532197438,
                      -0.0363589670820222
                    ],
                    [
                      0.048205100871577186,
                      -0.023268856314061965,
                      -0.005517416210721895,
                      -0.5594907352906444,
                      0.841872357240916,
                      0.03501814585721023,
                      0.011044287743116705,
                      0.006289437315551212,
                      -0.030783922476280406,
                      -0.01828542564513282,
                      0.0024689509016771706,
                      -0.00012863687939976599,
                      -0.015224470488389843,
                      0.045959854867771224,
                      -0.014930658842965863,
                      0.03143504017182979,
                      0.03163789490148656,
                      0.031311933967712556,
                      -0.022158430095367537,
                      -0.0664211534815916,
                      0.002784377158878505,
                      -0.002646048214368437,
                      0.03310961599208728,
                      -0.00038864031437128025,
                      -0.009532897609840208,
                      0.01608622498638087,
                      -0.02009947482107359,
                      -0.0043134694272187486,
                      -0.04810134692358605,
                      -0.015223812270772224,
                      0.03144254487110431,
                      -0.0015571609036856924,
                      0.04548196718999111,
                      0.9884855669319657,
                      1,
                      -0.021037602770978454,
                      -0.023886199765403494,
                      -0.0053783080039834915,
                      -0.03336341757282822
                    ],
                    [
                      -0.016032091211814852,
                      0.7366320405469093,
                      0.25436870842743065,
                      0.043734252530920045,
                      0.005003834776963069,
                      -0.024986621531260307,
                      -0.528579429831138,
                      -0.6605285330953992,
                      0.5945387591125094,
                      0.1263932804731642,
                      -0.34425160188772946,
                      -0.4195206831398885,
                      0.6326174837464013,
                      0.015238260304846934,
                      -0.00844923558851901,
                      0.007331574616359498,
                      0.007600969784770996,
                      0.007377551957499474,
                      0.7181599782112484,
                      0.002125954156895615,
                      -0.006823473878196004,
                      -0.03466286844637683,
                      0.010792922661243255,
                      -0.01348540839962942,
                      0.010043637722510561,
                      -0.02883450385659632,
                      -0.007034582598982606,
                      -0.04681134330247194,
                      0.06567641804643785,
                      0.6326173432950005,
                      0.007400157611578278,
                      -0.006493145683929426,
                      -0.5020369904369969,
                      -0.019387066961904065,
                      -0.021037602770978454,
                      1,
                      0.7075735053152503,
                      -0.4816694557157603,
                      0.19772310117660732
                    ],
                    [
                      -0.05062123782178812,
                      0.9818932250674055,
                      0.4775375468789503,
                      0.060057427499465195,
                      0.011810081415972042,
                      -0.030836107509933618,
                      0.025297954165080988,
                      0.023299338392234543,
                      0.6590681633271733,
                      0.43526117752912974,
                      0.024765963044672268,
                      0.04876858120126454,
                      0.7692784531811233,
                      0.03454810372836584,
                      -0.0014757700533646948,
                      -0.0017857898356698643,
                      -0.001771350671721683,
                      -0.0018613603124313194,
                      0.9629289705557171,
                      -0.009731585046578168,
                      -0.011834274760211304,
                      0.02330736074881095,
                      0.04132611125556272,
                      -0.015221820176104482,
                      -0.04357859918636794,
                      -0.00947637604079203,
                      0.009503077136034219,
                      -0.023363886034726458,
                      0.09745314783130503,
                      0.7692775394366973,
                      -0.001805799810145414,
                      0.0005647069141527038,
                      -0.722182775007371,
                      -0.018657378097831388,
                      -0.023886199765403494,
                      0.7075735053152503,
                      1,
                      0.052912921467118575,
                      0.2529621750878406
                    ],
                    [
                      -0.025906772689746255,
                      0.02433155353967126,
                      0.029195596979007813,
                      0.0035032967119545287,
                      -0.005300277235003496,
                      -0.004673032097961995,
                      0.944114281536926,
                      0.7739442104500825,
                      -0.018932530145618333,
                      0.28139744830123986,
                      0.6189207583135627,
                      0.7357017590908864,
                      0.01277544080560826,
                      0.03551695998986661,
                      0.0614152744366432,
                      0.01015816280359898,
                      0.009912861753401678,
                      0.009992297544668943,
                      0.07653008669663366,
                      -0.037622683346786326,
                      -0.024063119441328332,
                      0.07505936960573815,
                      0.04014548160023154,
                      -0.021503868332059244,
                      -0.05779036827653919,
                      0.017087321558213516,
                      0.15943974124863164,
                      0.14422951424073283,
                      0.3119398773383127,
                      0.012775975891663894,
                      0.01006057740537863,
                      0.008069365059849046,
                      -0.06339372592645295,
                      -0.0008782067532197438,
                      -0.0053783080039834915,
                      -0.4816694557157603,
                      0.052912921467118575,
                      1,
                      0.23174565574695746
                    ],
                    [
                      -0.020992627061667445,
                      0.25337393766625704,
                      0.10378938296994993,
                      -0.02975954779078755,
                      -0.05856229012498037,
                      -0.0009262246546435849,
                      -0.030751902152646796,
                      -0.013376132410607068,
                      0.1788640656896277,
                      0.0727449563492009,
                      0.01122885612793515,
                      0.01921259525767317,
                      0.21121279669304943,
                      0.04420843655208757,
                      0.06577491532474539,
                      0.044484635035511484,
                      0.04448288435157469,
                      0.044466976324641125,
                      0.2506470982575078,
                      -0.07015545935980555,
                      0.000778034112126097,
                      -0.04153987487422741,
                      0.0006026230378380982,
                      -0.05941493300322302,
                      -0.007257752245637217,
                      -0.01722450754888382,
                      0.3149399959767355,
                      0.2682095959196929,
                      0.8145602143478307,
                      0.2112090188868827,
                      0.044484468293897565,
                      -0.0017511281394286568,
                      -0.15768290672363244,
                      -0.0363589670820222,
                      -0.03336341757282822,
                      0.19772310117660732,
                      0.2529621750878406,
                      0.23174565574695746,
                      1
                    ]
                  ]
                }
              ],
              "layout": {
                "coloraxis": {
                  "colorscale": [
                    [
                      0,
                      "rgb(103,0,31)"
                    ],
                    [
                      0.1,
                      "rgb(178,24,43)"
                    ],
                    [
                      0.2,
                      "rgb(214,96,77)"
                    ],
                    [
                      0.3,
                      "rgb(244,165,130)"
                    ],
                    [
                      0.4,
                      "rgb(253,219,199)"
                    ],
                    [
                      0.5,
                      "rgb(247,247,247)"
                    ],
                    [
                      0.6,
                      "rgb(209,229,240)"
                    ],
                    [
                      0.7,
                      "rgb(146,197,222)"
                    ],
                    [
                      0.8,
                      "rgb(67,147,195)"
                    ],
                    [
                      0.9,
                      "rgb(33,102,172)"
                    ],
                    [
                      1,
                      "rgb(5,48,97)"
                    ]
                  ]
                },
                "template": {
                  "data": {
                    "bar": [
                      {
                        "error_x": {
                          "color": "#2a3f5f"
                        },
                        "error_y": {
                          "color": "#2a3f5f"
                        },
                        "marker": {
                          "line": {
                            "color": "#E5ECF6",
                            "width": 0.5
                          },
                          "pattern": {
                            "fillmode": "overlay",
                            "size": 10,
                            "solidity": 0.2
                          }
                        },
                        "type": "bar"
                      }
                    ],
                    "barpolar": [
                      {
                        "marker": {
                          "line": {
                            "color": "#E5ECF6",
                            "width": 0.5
                          },
                          "pattern": {
                            "fillmode": "overlay",
                            "size": 10,
                            "solidity": 0.2
                          }
                        },
                        "type": "barpolar"
                      }
                    ],
                    "carpet": [
                      {
                        "aaxis": {
                          "endlinecolor": "#2a3f5f",
                          "gridcolor": "white",
                          "linecolor": "white",
                          "minorgridcolor": "white",
                          "startlinecolor": "#2a3f5f"
                        },
                        "baxis": {
                          "endlinecolor": "#2a3f5f",
                          "gridcolor": "white",
                          "linecolor": "white",
                          "minorgridcolor": "white",
                          "startlinecolor": "#2a3f5f"
                        },
                        "type": "carpet"
                      }
                    ],
                    "choropleth": [
                      {
                        "colorbar": {
                          "outlinewidth": 0,
                          "ticks": ""
                        },
                        "type": "choropleth"
                      }
                    ],
                    "contour": [
                      {
                        "colorbar": {
                          "outlinewidth": 0,
                          "ticks": ""
                        },
                        "colorscale": [
                          [
                            0,
                            "#0d0887"
                          ],
                          [
                            0.1111111111111111,
                            "#46039f"
                          ],
                          [
                            0.2222222222222222,
                            "#7201a8"
                          ],
                          [
                            0.3333333333333333,
                            "#9c179e"
                          ],
                          [
                            0.4444444444444444,
                            "#bd3786"
                          ],
                          [
                            0.5555555555555556,
                            "#d8576b"
                          ],
                          [
                            0.6666666666666666,
                            "#ed7953"
                          ],
                          [
                            0.7777777777777778,
                            "#fb9f3a"
                          ],
                          [
                            0.8888888888888888,
                            "#fdca26"
                          ],
                          [
                            1,
                            "#f0f921"
                          ]
                        ],
                        "type": "contour"
                      }
                    ],
                    "contourcarpet": [
                      {
                        "colorbar": {
                          "outlinewidth": 0,
                          "ticks": ""
                        },
                        "type": "contourcarpet"
                      }
                    ],
                    "heatmap": [
                      {
                        "colorbar": {
                          "outlinewidth": 0,
                          "ticks": ""
                        },
                        "colorscale": [
                          [
                            0,
                            "#0d0887"
                          ],
                          [
                            0.1111111111111111,
                            "#46039f"
                          ],
                          [
                            0.2222222222222222,
                            "#7201a8"
                          ],
                          [
                            0.3333333333333333,
                            "#9c179e"
                          ],
                          [
                            0.4444444444444444,
                            "#bd3786"
                          ],
                          [
                            0.5555555555555556,
                            "#d8576b"
                          ],
                          [
                            0.6666666666666666,
                            "#ed7953"
                          ],
                          [
                            0.7777777777777778,
                            "#fb9f3a"
                          ],
                          [
                            0.8888888888888888,
                            "#fdca26"
                          ],
                          [
                            1,
                            "#f0f921"
                          ]
                        ],
                        "type": "heatmap"
                      }
                    ],
                    "heatmapgl": [
                      {
                        "colorbar": {
                          "outlinewidth": 0,
                          "ticks": ""
                        },
                        "colorscale": [
                          [
                            0,
                            "#0d0887"
                          ],
                          [
                            0.1111111111111111,
                            "#46039f"
                          ],
                          [
                            0.2222222222222222,
                            "#7201a8"
                          ],
                          [
                            0.3333333333333333,
                            "#9c179e"
                          ],
                          [
                            0.4444444444444444,
                            "#bd3786"
                          ],
                          [
                            0.5555555555555556,
                            "#d8576b"
                          ],
                          [
                            0.6666666666666666,
                            "#ed7953"
                          ],
                          [
                            0.7777777777777778,
                            "#fb9f3a"
                          ],
                          [
                            0.8888888888888888,
                            "#fdca26"
                          ],
                          [
                            1,
                            "#f0f921"
                          ]
                        ],
                        "type": "heatmapgl"
                      }
                    ],
                    "histogram": [
                      {
                        "marker": {
                          "pattern": {
                            "fillmode": "overlay",
                            "size": 10,
                            "solidity": 0.2
                          }
                        },
                        "type": "histogram"
                      }
                    ],
                    "histogram2d": [
                      {
                        "colorbar": {
                          "outlinewidth": 0,
                          "ticks": ""
                        },
                        "colorscale": [
                          [
                            0,
                            "#0d0887"
                          ],
                          [
                            0.1111111111111111,
                            "#46039f"
                          ],
                          [
                            0.2222222222222222,
                            "#7201a8"
                          ],
                          [
                            0.3333333333333333,
                            "#9c179e"
                          ],
                          [
                            0.4444444444444444,
                            "#bd3786"
                          ],
                          [
                            0.5555555555555556,
                            "#d8576b"
                          ],
                          [
                            0.6666666666666666,
                            "#ed7953"
                          ],
                          [
                            0.7777777777777778,
                            "#fb9f3a"
                          ],
                          [
                            0.8888888888888888,
                            "#fdca26"
                          ],
                          [
                            1,
                            "#f0f921"
                          ]
                        ],
                        "type": "histogram2d"
                      }
                    ],
                    "histogram2dcontour": [
                      {
                        "colorbar": {
                          "outlinewidth": 0,
                          "ticks": ""
                        },
                        "colorscale": [
                          [
                            0,
                            "#0d0887"
                          ],
                          [
                            0.1111111111111111,
                            "#46039f"
                          ],
                          [
                            0.2222222222222222,
                            "#7201a8"
                          ],
                          [
                            0.3333333333333333,
                            "#9c179e"
                          ],
                          [
                            0.4444444444444444,
                            "#bd3786"
                          ],
                          [
                            0.5555555555555556,
                            "#d8576b"
                          ],
                          [
                            0.6666666666666666,
                            "#ed7953"
                          ],
                          [
                            0.7777777777777778,
                            "#fb9f3a"
                          ],
                          [
                            0.8888888888888888,
                            "#fdca26"
                          ],
                          [
                            1,
                            "#f0f921"
                          ]
                        ],
                        "type": "histogram2dcontour"
                      }
                    ],
                    "mesh3d": [
                      {
                        "colorbar": {
                          "outlinewidth": 0,
                          "ticks": ""
                        },
                        "type": "mesh3d"
                      }
                    ],
                    "parcoords": [
                      {
                        "line": {
                          "colorbar": {
                            "outlinewidth": 0,
                            "ticks": ""
                          }
                        },
                        "type": "parcoords"
                      }
                    ],
                    "pie": [
                      {
                        "automargin": true,
                        "type": "pie"
                      }
                    ],
                    "scatter": [
                      {
                        "fillpattern": {
                          "fillmode": "overlay",
                          "size": 10,
                          "solidity": 0.2
                        },
                        "type": "scatter"
                      }
                    ],
                    "scatter3d": [
                      {
                        "line": {
                          "colorbar": {
                            "outlinewidth": 0,
                            "ticks": ""
                          }
                        },
                        "marker": {
                          "colorbar": {
                            "outlinewidth": 0,
                            "ticks": ""
                          }
                        },
                        "type": "scatter3d"
                      }
                    ],
                    "scattercarpet": [
                      {
                        "marker": {
                          "colorbar": {
                            "outlinewidth": 0,
                            "ticks": ""
                          }
                        },
                        "type": "scattercarpet"
                      }
                    ],
                    "scattergeo": [
                      {
                        "marker": {
                          "colorbar": {
                            "outlinewidth": 0,
                            "ticks": ""
                          }
                        },
                        "type": "scattergeo"
                      }
                    ],
                    "scattergl": [
                      {
                        "marker": {
                          "colorbar": {
                            "outlinewidth": 0,
                            "ticks": ""
                          }
                        },
                        "type": "scattergl"
                      }
                    ],
                    "scattermapbox": [
                      {
                        "marker": {
                          "colorbar": {
                            "outlinewidth": 0,
                            "ticks": ""
                          }
                        },
                        "type": "scattermapbox"
                      }
                    ],
                    "scatterpolar": [
                      {
                        "marker": {
                          "colorbar": {
                            "outlinewidth": 0,
                            "ticks": ""
                          }
                        },
                        "type": "scatterpolar"
                      }
                    ],
                    "scatterpolargl": [
                      {
                        "marker": {
                          "colorbar": {
                            "outlinewidth": 0,
                            "ticks": ""
                          }
                        },
                        "type": "scatterpolargl"
                      }
                    ],
                    "scatterternary": [
                      {
                        "marker": {
                          "colorbar": {
                            "outlinewidth": 0,
                            "ticks": ""
                          }
                        },
                        "type": "scatterternary"
                      }
                    ],
                    "surface": [
                      {
                        "colorbar": {
                          "outlinewidth": 0,
                          "ticks": ""
                        },
                        "colorscale": [
                          [
                            0,
                            "#0d0887"
                          ],
                          [
                            0.1111111111111111,
                            "#46039f"
                          ],
                          [
                            0.2222222222222222,
                            "#7201a8"
                          ],
                          [
                            0.3333333333333333,
                            "#9c179e"
                          ],
                          [
                            0.4444444444444444,
                            "#bd3786"
                          ],
                          [
                            0.5555555555555556,
                            "#d8576b"
                          ],
                          [
                            0.6666666666666666,
                            "#ed7953"
                          ],
                          [
                            0.7777777777777778,
                            "#fb9f3a"
                          ],
                          [
                            0.8888888888888888,
                            "#fdca26"
                          ],
                          [
                            1,
                            "#f0f921"
                          ]
                        ],
                        "type": "surface"
                      }
                    ],
                    "table": [
                      {
                        "cells": {
                          "fill": {
                            "color": "#EBF0F8"
                          },
                          "line": {
                            "color": "white"
                          }
                        },
                        "header": {
                          "fill": {
                            "color": "#C8D4E3"
                          },
                          "line": {
                            "color": "white"
                          }
                        },
                        "type": "table"
                      }
                    ]
                  },
                  "layout": {
                    "annotationdefaults": {
                      "arrowcolor": "#2a3f5f",
                      "arrowhead": 0,
                      "arrowwidth": 1
                    },
                    "autotypenumbers": "strict",
                    "coloraxis": {
                      "colorbar": {
                        "outlinewidth": 0,
                        "ticks": ""
                      }
                    },
                    "colorscale": {
                      "diverging": [
                        [
                          0,
                          "#8e0152"
                        ],
                        [
                          0.1,
                          "#c51b7d"
                        ],
                        [
                          0.2,
                          "#de77ae"
                        ],
                        [
                          0.3,
                          "#f1b6da"
                        ],
                        [
                          0.4,
                          "#fde0ef"
                        ],
                        [
                          0.5,
                          "#f7f7f7"
                        ],
                        [
                          0.6,
                          "#e6f5d0"
                        ],
                        [
                          0.7,
                          "#b8e186"
                        ],
                        [
                          0.8,
                          "#7fbc41"
                        ],
                        [
                          0.9,
                          "#4d9221"
                        ],
                        [
                          1,
                          "#276419"
                        ]
                      ],
                      "sequential": [
                        [
                          0,
                          "#0d0887"
                        ],
                        [
                          0.1111111111111111,
                          "#46039f"
                        ],
                        [
                          0.2222222222222222,
                          "#7201a8"
                        ],
                        [
                          0.3333333333333333,
                          "#9c179e"
                        ],
                        [
                          0.4444444444444444,
                          "#bd3786"
                        ],
                        [
                          0.5555555555555556,
                          "#d8576b"
                        ],
                        [
                          0.6666666666666666,
                          "#ed7953"
                        ],
                        [
                          0.7777777777777778,
                          "#fb9f3a"
                        ],
                        [
                          0.8888888888888888,
                          "#fdca26"
                        ],
                        [
                          1,
                          "#f0f921"
                        ]
                      ],
                      "sequentialminus": [
                        [
                          0,
                          "#0d0887"
                        ],
                        [
                          0.1111111111111111,
                          "#46039f"
                        ],
                        [
                          0.2222222222222222,
                          "#7201a8"
                        ],
                        [
                          0.3333333333333333,
                          "#9c179e"
                        ],
                        [
                          0.4444444444444444,
                          "#bd3786"
                        ],
                        [
                          0.5555555555555556,
                          "#d8576b"
                        ],
                        [
                          0.6666666666666666,
                          "#ed7953"
                        ],
                        [
                          0.7777777777777778,
                          "#fb9f3a"
                        ],
                        [
                          0.8888888888888888,
                          "#fdca26"
                        ],
                        [
                          1,
                          "#f0f921"
                        ]
                      ]
                    },
                    "colorway": [
                      "#636efa",
                      "#EF553B",
                      "#00cc96",
                      "#ab63fa",
                      "#FFA15A",
                      "#19d3f3",
                      "#FF6692",
                      "#B6E880",
                      "#FF97FF",
                      "#FECB52"
                    ],
                    "font": {
                      "color": "#2a3f5f"
                    },
                    "geo": {
                      "bgcolor": "white",
                      "lakecolor": "white",
                      "landcolor": "#E5ECF6",
                      "showlakes": true,
                      "showland": true,
                      "subunitcolor": "white"
                    },
                    "hoverlabel": {
                      "align": "left"
                    },
                    "hovermode": "closest",
                    "mapbox": {
                      "style": "light"
                    },
                    "paper_bgcolor": "white",
                    "plot_bgcolor": "#E5ECF6",
                    "polar": {
                      "angularaxis": {
                        "gridcolor": "white",
                        "linecolor": "white",
                        "ticks": ""
                      },
                      "bgcolor": "#E5ECF6",
                      "radialaxis": {
                        "gridcolor": "white",
                        "linecolor": "white",
                        "ticks": ""
                      }
                    },
                    "scene": {
                      "xaxis": {
                        "backgroundcolor": "#E5ECF6",
                        "gridcolor": "white",
                        "gridwidth": 2,
                        "linecolor": "white",
                        "showbackground": true,
                        "ticks": "",
                        "zerolinecolor": "white"
                      },
                      "yaxis": {
                        "backgroundcolor": "#E5ECF6",
                        "gridcolor": "white",
                        "gridwidth": 2,
                        "linecolor": "white",
                        "showbackground": true,
                        "ticks": "",
                        "zerolinecolor": "white"
                      },
                      "zaxis": {
                        "backgroundcolor": "#E5ECF6",
                        "gridcolor": "white",
                        "gridwidth": 2,
                        "linecolor": "white",
                        "showbackground": true,
                        "ticks": "",
                        "zerolinecolor": "white"
                      }
                    },
                    "shapedefaults": {
                      "line": {
                        "color": "#2a3f5f"
                      }
                    },
                    "ternary": {
                      "aaxis": {
                        "gridcolor": "white",
                        "linecolor": "white",
                        "ticks": ""
                      },
                      "baxis": {
                        "gridcolor": "white",
                        "linecolor": "white",
                        "ticks": ""
                      },
                      "bgcolor": "#E5ECF6",
                      "caxis": {
                        "gridcolor": "white",
                        "linecolor": "white",
                        "ticks": ""
                      }
                    },
                    "title": {
                      "x": 0.05
                    },
                    "xaxis": {
                      "automargin": true,
                      "gridcolor": "white",
                      "linecolor": "white",
                      "ticks": "",
                      "title": {
                        "standoff": 15
                      },
                      "zerolinecolor": "white",
                      "zerolinewidth": 2
                    },
                    "yaxis": {
                      "automargin": true,
                      "gridcolor": "white",
                      "linecolor": "white",
                      "ticks": "",
                      "title": {
                        "standoff": 15
                      },
                      "zerolinecolor": "white",
                      "zerolinewidth": 2
                    }
                  }
                },
                "title": {
                  "text": "Matriz de correlación"
                },
                "xaxis": {
                  "anchor": "y",
                  "constrain": "domain",
                  "domain": [
                    0,
                    1
                  ],
                  "scaleanchor": "y"
                },
                "yaxis": {
                  "anchor": "x",
                  "autorange": "reversed",
                  "constrain": "domain",
                  "domain": [
                    0,
                    1
                  ]
                }
              }
            }
          },
          "metadata": {},
          "output_type": "display_data"
        }
      ],
      "source": [
        "# Filtrar solo columnas numéricas\n",
        "df_num = lifeStyleData.select_dtypes(include=['number'])\n",
        "\n",
        "# Calcular la correlación\n",
        "print(df_num.corr())\n",
        "\n",
        "# Mostrar el mapa de calor\n",
        "import plotly.express as px\n",
        "px.imshow(df_num.corr(), text_auto=True, color_continuous_scale='RdBu', title='Matriz de correlación')\n",
        " \n",
        "\n",
        "\n"
      ]
    },
    {
      "cell_type": "code",
      "execution_count": null,
      "metadata": {},
      "outputs": [],
      "source": [
        "\n"
      ]
    },
    {
      "cell_type": "markdown",
      "metadata": {
        "id": "xfw0EHuoUCk_"
      },
      "source": [
        "## Ejercicio 3 — Regresión básica (2 puntos)\n",
        "\n",
        "Queremos predecir una variable de salud continua, por ejemplo bmi.\n",
        "\n",
        "a) (0.25 pts) Define targetVar = \"bmi\" y selecciona 2–3 variables predictoras (por ejemplo sleepHours, activityLevel, calories). Guarda las columnas predictoras en X y la variable objetivo en y."
      ]
    },
    {
      "cell_type": "code",
      "execution_count": 47,
      "metadata": {
        "id": "3lGCNguAUGZe"
      },
      "outputs": [],
      "source": [
        "#Variables elegidas: fat_percentage, calories, protein_per_kg, lean_mass_kg\n",
        "df = lifeStyleData.dropna()\n",
        "\n",
        "X = pd.DataFrame(data=df[['Fat_Percentage', 'Calories', 'protein_per_kg', 'lean_mass_kg']],\n",
        "                 columns=['Fat_Percentage', 'Calories', 'protein_per_kg', 'lean_mass_kg'])\n",
        "y = pd.DataFrame(data = df[['BMI']], columns = ['BMI'])"
      ]
    },
    {
      "cell_type": "code",
      "execution_count": null,
      "metadata": {},
      "outputs": [],
      "source": []
    },
    {
      "cell_type": "code",
      "execution_count": null,
      "metadata": {},
      "outputs": [],
      "source": []
    },
    {
      "cell_type": "markdown",
      "metadata": {
        "id": "8TpJdONMUGuE"
      },
      "source": [
        "b) (0.25 pts) Divide los datos en entrenamiento (70 %) y prueba (30 %)."
      ]
    },
    {
      "cell_type": "code",
      "execution_count": 48,
      "metadata": {
        "id": "d7q5Q7SNUP-G"
      },
      "outputs": [
        {
          "name": "stdout",
          "output_type": "stream",
          "text": [
            "       Fat_Percentage  Calories  protein_per_kg  lean_mass_kg\n",
            "8263        30.287265    2879.0        1.094530     71.755318\n",
            "15267       35.000000    3052.0        1.468431     71.240000\n",
            "9581        24.718208    1695.0        1.638789     45.997175\n",
            "6254        29.191083    1759.0        1.795764     41.118738\n",
            "11929       33.840588    1840.0        1.701459     47.601697\n",
            "...               ...       ...             ...           ...\n",
            "7766        21.600172    1380.0        2.466551     36.095281\n",
            "15380       27.752515    1562.0        1.798064     38.818573\n",
            "17733       24.198288    1527.0        2.041182     42.335256\n",
            "15728       23.627738    1676.0        2.035330     40.423838\n",
            "19969       25.553567    2448.0        1.205999     64.038822\n",
            "\n",
            "[13997 rows x 4 columns]\n"
          ]
        }
      ],
      "source": [
        "\n",
        "X_train, X_test, y_train, y_test = train_test_split(X, y ,test_size = 0.3, random_state = 123)\n",
        "\n",
        "print(X_train)"
      ]
    },
    {
      "cell_type": "markdown",
      "metadata": {
        "id": "yGs8HngOUR7K"
      },
      "source": [
        "c) (0.75 pts) Entrena un modelo de regresión lineal (LinearRegression) y calcula el R² y el MSE."
      ]
    },
    {
      "cell_type": "code",
      "execution_count": 49,
      "metadata": {
        "id": "nkH-KfUrUSv0"
      },
      "outputs": [
        {
          "data": {
            "text/html": [
              "<style>#sk-container-id-1 {\n",
              "  /* Definition of color scheme common for light and dark mode */\n",
              "  --sklearn-color-text: black;\n",
              "  --sklearn-color-line: gray;\n",
              "  /* Definition of color scheme for unfitted estimators */\n",
              "  --sklearn-color-unfitted-level-0: #fff5e6;\n",
              "  --sklearn-color-unfitted-level-1: #f6e4d2;\n",
              "  --sklearn-color-unfitted-level-2: #ffe0b3;\n",
              "  --sklearn-color-unfitted-level-3: chocolate;\n",
              "  /* Definition of color scheme for fitted estimators */\n",
              "  --sklearn-color-fitted-level-0: #f0f8ff;\n",
              "  --sklearn-color-fitted-level-1: #d4ebff;\n",
              "  --sklearn-color-fitted-level-2: #b3dbfd;\n",
              "  --sklearn-color-fitted-level-3: cornflowerblue;\n",
              "\n",
              "  /* Specific color for light theme */\n",
              "  --sklearn-color-text-on-default-background: var(--sg-text-color, var(--theme-code-foreground, var(--jp-content-font-color1, black)));\n",
              "  --sklearn-color-background: var(--sg-background-color, var(--theme-background, var(--jp-layout-color0, white)));\n",
              "  --sklearn-color-border-box: var(--sg-text-color, var(--theme-code-foreground, var(--jp-content-font-color1, black)));\n",
              "  --sklearn-color-icon: #696969;\n",
              "\n",
              "  @media (prefers-color-scheme: dark) {\n",
              "    /* Redefinition of color scheme for dark theme */\n",
              "    --sklearn-color-text-on-default-background: var(--sg-text-color, var(--theme-code-foreground, var(--jp-content-font-color1, white)));\n",
              "    --sklearn-color-background: var(--sg-background-color, var(--theme-background, var(--jp-layout-color0, #111)));\n",
              "    --sklearn-color-border-box: var(--sg-text-color, var(--theme-code-foreground, var(--jp-content-font-color1, white)));\n",
              "    --sklearn-color-icon: #878787;\n",
              "  }\n",
              "}\n",
              "\n",
              "#sk-container-id-1 {\n",
              "  color: var(--sklearn-color-text);\n",
              "}\n",
              "\n",
              "#sk-container-id-1 pre {\n",
              "  padding: 0;\n",
              "}\n",
              "\n",
              "#sk-container-id-1 input.sk-hidden--visually {\n",
              "  border: 0;\n",
              "  clip: rect(1px 1px 1px 1px);\n",
              "  clip: rect(1px, 1px, 1px, 1px);\n",
              "  height: 1px;\n",
              "  margin: -1px;\n",
              "  overflow: hidden;\n",
              "  padding: 0;\n",
              "  position: absolute;\n",
              "  width: 1px;\n",
              "}\n",
              "\n",
              "#sk-container-id-1 div.sk-dashed-wrapped {\n",
              "  border: 1px dashed var(--sklearn-color-line);\n",
              "  margin: 0 0.4em 0.5em 0.4em;\n",
              "  box-sizing: border-box;\n",
              "  padding-bottom: 0.4em;\n",
              "  background-color: var(--sklearn-color-background);\n",
              "}\n",
              "\n",
              "#sk-container-id-1 div.sk-container {\n",
              "  /* jupyter's `normalize.less` sets `[hidden] { display: none; }`\n",
              "     but bootstrap.min.css set `[hidden] { display: none !important; }`\n",
              "     so we also need the `!important` here to be able to override the\n",
              "     default hidden behavior on the sphinx rendered scikit-learn.org.\n",
              "     See: https://github.com/scikit-learn/scikit-learn/issues/21755 */\n",
              "  display: inline-block !important;\n",
              "  position: relative;\n",
              "}\n",
              "\n",
              "#sk-container-id-1 div.sk-text-repr-fallback {\n",
              "  display: none;\n",
              "}\n",
              "\n",
              "div.sk-parallel-item,\n",
              "div.sk-serial,\n",
              "div.sk-item {\n",
              "  /* draw centered vertical line to link estimators */\n",
              "  background-image: linear-gradient(var(--sklearn-color-text-on-default-background), var(--sklearn-color-text-on-default-background));\n",
              "  background-size: 2px 100%;\n",
              "  background-repeat: no-repeat;\n",
              "  background-position: center center;\n",
              "}\n",
              "\n",
              "/* Parallel-specific style estimator block */\n",
              "\n",
              "#sk-container-id-1 div.sk-parallel-item::after {\n",
              "  content: \"\";\n",
              "  width: 100%;\n",
              "  border-bottom: 2px solid var(--sklearn-color-text-on-default-background);\n",
              "  flex-grow: 1;\n",
              "}\n",
              "\n",
              "#sk-container-id-1 div.sk-parallel {\n",
              "  display: flex;\n",
              "  align-items: stretch;\n",
              "  justify-content: center;\n",
              "  background-color: var(--sklearn-color-background);\n",
              "  position: relative;\n",
              "}\n",
              "\n",
              "#sk-container-id-1 div.sk-parallel-item {\n",
              "  display: flex;\n",
              "  flex-direction: column;\n",
              "}\n",
              "\n",
              "#sk-container-id-1 div.sk-parallel-item:first-child::after {\n",
              "  align-self: flex-end;\n",
              "  width: 50%;\n",
              "}\n",
              "\n",
              "#sk-container-id-1 div.sk-parallel-item:last-child::after {\n",
              "  align-self: flex-start;\n",
              "  width: 50%;\n",
              "}\n",
              "\n",
              "#sk-container-id-1 div.sk-parallel-item:only-child::after {\n",
              "  width: 0;\n",
              "}\n",
              "\n",
              "/* Serial-specific style estimator block */\n",
              "\n",
              "#sk-container-id-1 div.sk-serial {\n",
              "  display: flex;\n",
              "  flex-direction: column;\n",
              "  align-items: center;\n",
              "  background-color: var(--sklearn-color-background);\n",
              "  padding-right: 1em;\n",
              "  padding-left: 1em;\n",
              "}\n",
              "\n",
              "\n",
              "/* Toggleable style: style used for estimator/Pipeline/ColumnTransformer box that is\n",
              "clickable and can be expanded/collapsed.\n",
              "- Pipeline and ColumnTransformer use this feature and define the default style\n",
              "- Estimators will overwrite some part of the style using the `sk-estimator` class\n",
              "*/\n",
              "\n",
              "/* Pipeline and ColumnTransformer style (default) */\n",
              "\n",
              "#sk-container-id-1 div.sk-toggleable {\n",
              "  /* Default theme specific background. It is overwritten whether we have a\n",
              "  specific estimator or a Pipeline/ColumnTransformer */\n",
              "  background-color: var(--sklearn-color-background);\n",
              "}\n",
              "\n",
              "/* Toggleable label */\n",
              "#sk-container-id-1 label.sk-toggleable__label {\n",
              "  cursor: pointer;\n",
              "  display: block;\n",
              "  width: 100%;\n",
              "  margin-bottom: 0;\n",
              "  padding: 0.5em;\n",
              "  box-sizing: border-box;\n",
              "  text-align: center;\n",
              "}\n",
              "\n",
              "#sk-container-id-1 label.sk-toggleable__label-arrow:before {\n",
              "  /* Arrow on the left of the label */\n",
              "  content: \"▸\";\n",
              "  float: left;\n",
              "  margin-right: 0.25em;\n",
              "  color: var(--sklearn-color-icon);\n",
              "}\n",
              "\n",
              "#sk-container-id-1 label.sk-toggleable__label-arrow:hover:before {\n",
              "  color: var(--sklearn-color-text);\n",
              "}\n",
              "\n",
              "/* Toggleable content - dropdown */\n",
              "\n",
              "#sk-container-id-1 div.sk-toggleable__content {\n",
              "  max-height: 0;\n",
              "  max-width: 0;\n",
              "  overflow: hidden;\n",
              "  text-align: left;\n",
              "  /* unfitted */\n",
              "  background-color: var(--sklearn-color-unfitted-level-0);\n",
              "}\n",
              "\n",
              "#sk-container-id-1 div.sk-toggleable__content.fitted {\n",
              "  /* fitted */\n",
              "  background-color: var(--sklearn-color-fitted-level-0);\n",
              "}\n",
              "\n",
              "#sk-container-id-1 div.sk-toggleable__content pre {\n",
              "  margin: 0.2em;\n",
              "  border-radius: 0.25em;\n",
              "  color: var(--sklearn-color-text);\n",
              "  /* unfitted */\n",
              "  background-color: var(--sklearn-color-unfitted-level-0);\n",
              "}\n",
              "\n",
              "#sk-container-id-1 div.sk-toggleable__content.fitted pre {\n",
              "  /* unfitted */\n",
              "  background-color: var(--sklearn-color-fitted-level-0);\n",
              "}\n",
              "\n",
              "#sk-container-id-1 input.sk-toggleable__control:checked~div.sk-toggleable__content {\n",
              "  /* Expand drop-down */\n",
              "  max-height: 200px;\n",
              "  max-width: 100%;\n",
              "  overflow: auto;\n",
              "}\n",
              "\n",
              "#sk-container-id-1 input.sk-toggleable__control:checked~label.sk-toggleable__label-arrow:before {\n",
              "  content: \"▾\";\n",
              "}\n",
              "\n",
              "/* Pipeline/ColumnTransformer-specific style */\n",
              "\n",
              "#sk-container-id-1 div.sk-label input.sk-toggleable__control:checked~label.sk-toggleable__label {\n",
              "  color: var(--sklearn-color-text);\n",
              "  background-color: var(--sklearn-color-unfitted-level-2);\n",
              "}\n",
              "\n",
              "#sk-container-id-1 div.sk-label.fitted input.sk-toggleable__control:checked~label.sk-toggleable__label {\n",
              "  background-color: var(--sklearn-color-fitted-level-2);\n",
              "}\n",
              "\n",
              "/* Estimator-specific style */\n",
              "\n",
              "/* Colorize estimator box */\n",
              "#sk-container-id-1 div.sk-estimator input.sk-toggleable__control:checked~label.sk-toggleable__label {\n",
              "  /* unfitted */\n",
              "  background-color: var(--sklearn-color-unfitted-level-2);\n",
              "}\n",
              "\n",
              "#sk-container-id-1 div.sk-estimator.fitted input.sk-toggleable__control:checked~label.sk-toggleable__label {\n",
              "  /* fitted */\n",
              "  background-color: var(--sklearn-color-fitted-level-2);\n",
              "}\n",
              "\n",
              "#sk-container-id-1 div.sk-label label.sk-toggleable__label,\n",
              "#sk-container-id-1 div.sk-label label {\n",
              "  /* The background is the default theme color */\n",
              "  color: var(--sklearn-color-text-on-default-background);\n",
              "}\n",
              "\n",
              "/* On hover, darken the color of the background */\n",
              "#sk-container-id-1 div.sk-label:hover label.sk-toggleable__label {\n",
              "  color: var(--sklearn-color-text);\n",
              "  background-color: var(--sklearn-color-unfitted-level-2);\n",
              "}\n",
              "\n",
              "/* Label box, darken color on hover, fitted */\n",
              "#sk-container-id-1 div.sk-label.fitted:hover label.sk-toggleable__label.fitted {\n",
              "  color: var(--sklearn-color-text);\n",
              "  background-color: var(--sklearn-color-fitted-level-2);\n",
              "}\n",
              "\n",
              "/* Estimator label */\n",
              "\n",
              "#sk-container-id-1 div.sk-label label {\n",
              "  font-family: monospace;\n",
              "  font-weight: bold;\n",
              "  display: inline-block;\n",
              "  line-height: 1.2em;\n",
              "}\n",
              "\n",
              "#sk-container-id-1 div.sk-label-container {\n",
              "  text-align: center;\n",
              "}\n",
              "\n",
              "/* Estimator-specific */\n",
              "#sk-container-id-1 div.sk-estimator {\n",
              "  font-family: monospace;\n",
              "  border: 1px dotted var(--sklearn-color-border-box);\n",
              "  border-radius: 0.25em;\n",
              "  box-sizing: border-box;\n",
              "  margin-bottom: 0.5em;\n",
              "  /* unfitted */\n",
              "  background-color: var(--sklearn-color-unfitted-level-0);\n",
              "}\n",
              "\n",
              "#sk-container-id-1 div.sk-estimator.fitted {\n",
              "  /* fitted */\n",
              "  background-color: var(--sklearn-color-fitted-level-0);\n",
              "}\n",
              "\n",
              "/* on hover */\n",
              "#sk-container-id-1 div.sk-estimator:hover {\n",
              "  /* unfitted */\n",
              "  background-color: var(--sklearn-color-unfitted-level-2);\n",
              "}\n",
              "\n",
              "#sk-container-id-1 div.sk-estimator.fitted:hover {\n",
              "  /* fitted */\n",
              "  background-color: var(--sklearn-color-fitted-level-2);\n",
              "}\n",
              "\n",
              "/* Specification for estimator info (e.g. \"i\" and \"?\") */\n",
              "\n",
              "/* Common style for \"i\" and \"?\" */\n",
              "\n",
              ".sk-estimator-doc-link,\n",
              "a:link.sk-estimator-doc-link,\n",
              "a:visited.sk-estimator-doc-link {\n",
              "  float: right;\n",
              "  font-size: smaller;\n",
              "  line-height: 1em;\n",
              "  font-family: monospace;\n",
              "  background-color: var(--sklearn-color-background);\n",
              "  border-radius: 1em;\n",
              "  height: 1em;\n",
              "  width: 1em;\n",
              "  text-decoration: none !important;\n",
              "  margin-left: 1ex;\n",
              "  /* unfitted */\n",
              "  border: var(--sklearn-color-unfitted-level-1) 1pt solid;\n",
              "  color: var(--sklearn-color-unfitted-level-1);\n",
              "}\n",
              "\n",
              ".sk-estimator-doc-link.fitted,\n",
              "a:link.sk-estimator-doc-link.fitted,\n",
              "a:visited.sk-estimator-doc-link.fitted {\n",
              "  /* fitted */\n",
              "  border: var(--sklearn-color-fitted-level-1) 1pt solid;\n",
              "  color: var(--sklearn-color-fitted-level-1);\n",
              "}\n",
              "\n",
              "/* On hover */\n",
              "div.sk-estimator:hover .sk-estimator-doc-link:hover,\n",
              ".sk-estimator-doc-link:hover,\n",
              "div.sk-label-container:hover .sk-estimator-doc-link:hover,\n",
              ".sk-estimator-doc-link:hover {\n",
              "  /* unfitted */\n",
              "  background-color: var(--sklearn-color-unfitted-level-3);\n",
              "  color: var(--sklearn-color-background);\n",
              "  text-decoration: none;\n",
              "}\n",
              "\n",
              "div.sk-estimator.fitted:hover .sk-estimator-doc-link.fitted:hover,\n",
              ".sk-estimator-doc-link.fitted:hover,\n",
              "div.sk-label-container:hover .sk-estimator-doc-link.fitted:hover,\n",
              ".sk-estimator-doc-link.fitted:hover {\n",
              "  /* fitted */\n",
              "  background-color: var(--sklearn-color-fitted-level-3);\n",
              "  color: var(--sklearn-color-background);\n",
              "  text-decoration: none;\n",
              "}\n",
              "\n",
              "/* Span, style for the box shown on hovering the info icon */\n",
              ".sk-estimator-doc-link span {\n",
              "  display: none;\n",
              "  z-index: 9999;\n",
              "  position: relative;\n",
              "  font-weight: normal;\n",
              "  right: .2ex;\n",
              "  padding: .5ex;\n",
              "  margin: .5ex;\n",
              "  width: min-content;\n",
              "  min-width: 20ex;\n",
              "  max-width: 50ex;\n",
              "  color: var(--sklearn-color-text);\n",
              "  box-shadow: 2pt 2pt 4pt #999;\n",
              "  /* unfitted */\n",
              "  background: var(--sklearn-color-unfitted-level-0);\n",
              "  border: .5pt solid var(--sklearn-color-unfitted-level-3);\n",
              "}\n",
              "\n",
              ".sk-estimator-doc-link.fitted span {\n",
              "  /* fitted */\n",
              "  background: var(--sklearn-color-fitted-level-0);\n",
              "  border: var(--sklearn-color-fitted-level-3);\n",
              "}\n",
              "\n",
              ".sk-estimator-doc-link:hover span {\n",
              "  display: block;\n",
              "}\n",
              "\n",
              "/* \"?\"-specific style due to the `<a>` HTML tag */\n",
              "\n",
              "#sk-container-id-1 a.estimator_doc_link {\n",
              "  float: right;\n",
              "  font-size: 1rem;\n",
              "  line-height: 1em;\n",
              "  font-family: monospace;\n",
              "  background-color: var(--sklearn-color-background);\n",
              "  border-radius: 1rem;\n",
              "  height: 1rem;\n",
              "  width: 1rem;\n",
              "  text-decoration: none;\n",
              "  /* unfitted */\n",
              "  color: var(--sklearn-color-unfitted-level-1);\n",
              "  border: var(--sklearn-color-unfitted-level-1) 1pt solid;\n",
              "}\n",
              "\n",
              "#sk-container-id-1 a.estimator_doc_link.fitted {\n",
              "  /* fitted */\n",
              "  border: var(--sklearn-color-fitted-level-1) 1pt solid;\n",
              "  color: var(--sklearn-color-fitted-level-1);\n",
              "}\n",
              "\n",
              "/* On hover */\n",
              "#sk-container-id-1 a.estimator_doc_link:hover {\n",
              "  /* unfitted */\n",
              "  background-color: var(--sklearn-color-unfitted-level-3);\n",
              "  color: var(--sklearn-color-background);\n",
              "  text-decoration: none;\n",
              "}\n",
              "\n",
              "#sk-container-id-1 a.estimator_doc_link.fitted:hover {\n",
              "  /* fitted */\n",
              "  background-color: var(--sklearn-color-fitted-level-3);\n",
              "}\n",
              "</style><div id=\"sk-container-id-1\" class=\"sk-top-container\"><div class=\"sk-text-repr-fallback\"><pre>ElasticNet()</pre><b>In a Jupyter environment, please rerun this cell to show the HTML representation or trust the notebook. <br />On GitHub, the HTML representation is unable to render, please try loading this page with nbviewer.org.</b></div><div class=\"sk-container\" hidden><div class=\"sk-item\"><div class=\"sk-estimator fitted sk-toggleable\"><input class=\"sk-toggleable__control sk-hidden--visually\" id=\"sk-estimator-id-1\" type=\"checkbox\" checked><label for=\"sk-estimator-id-1\" class=\"sk-toggleable__label fitted sk-toggleable__label-arrow fitted\">&nbsp;&nbsp;ElasticNet<a class=\"sk-estimator-doc-link fitted\" rel=\"noreferrer\" target=\"_blank\" href=\"https://scikit-learn.org/1.5/modules/generated/sklearn.linear_model.ElasticNet.html\">?<span>Documentation for ElasticNet</span></a><span class=\"sk-estimator-doc-link fitted\">i<span>Fitted</span></span></label><div class=\"sk-toggleable__content fitted\"><pre>ElasticNet()</pre></div> </div></div></div></div>"
            ],
            "text/plain": [
              "ElasticNet()"
            ]
          },
          "execution_count": 49,
          "metadata": {},
          "output_type": "execute_result"
        }
      ],
      "source": [
        "reg = ElasticNet()\n",
        "reg.fit(X_train,y_train)\n",
        "\n",
        "#Modelo regresion pero no lineal"
      ]
    },
    {
      "cell_type": "code",
      "execution_count": 53,
      "metadata": {},
      "outputs": [
        {
          "name": "stdout",
          "output_type": "stream",
          "text": [
            "Variance explanation R^2 = 0.87\n",
            "Mean squared error: 5.83\n"
          ]
        }
      ],
      "source": [
        "#Modelo regresion lineal\n",
        "\n",
        "lm = Pipeline(steps=[\n",
        "  ('scaler', StandardScaler()),\n",
        "  (\"lm\", LinearRegression()),\n",
        "])\n",
        "\n",
        "lm = lm.fit(X_train, y_train)\n",
        "\n",
        "print(\"Variance explanation R^2 = {}\".format(round(lm.score(X, y),2)))\n",
        "\n",
        "y_pred = lm.predict(X_test)\n",
        "\n",
        "print(\"Mean squared error: %.2f\" % mean_squared_error(y_test, y_pred))\n"
      ]
    },
    {
      "cell_type": "markdown",
      "metadata": {
        "id": "fozoFa3vUTah"
      },
      "source": [
        "d) (0.75 pts) Entrena un RandomForestRegressor con los mismos datos y compara resultados. ¿Cuál tiene mejor rendimiento?"
      ]
    },
    {
      "cell_type": "code",
      "execution_count": 55,
      "metadata": {
        "id": "0Me5YnFVUcPQ"
      },
      "outputs": [
        {
          "name": "stderr",
          "output_type": "stream",
          "text": [
            "c:\\Users\\marta\\anaconda3\\Lib\\site-packages\\sklearn\\base.py:1473: DataConversionWarning:\n",
            "\n",
            "A column-vector y was passed when a 1d array was expected. Please change the shape of y to (n_samples,), for example using ravel().\n",
            "\n",
            "c:\\Users\\marta\\anaconda3\\Lib\\site-packages\\sklearn\\base.py:1473: DataConversionWarning:\n",
            "\n",
            "A column-vector y was passed when a 1d array was expected. Please change the shape of y to (n_samples,), for example using ravel().\n",
            "\n"
          ]
        },
        {
          "name": "stdout",
          "output_type": "stream",
          "text": [
            "Variance explanation R^2 = 0.97\n",
            "Mean squared error: 3.17\n"
          ]
        }
      ],
      "source": [
        "rf = RandomForestRegressor().fit(X_train, y_train)\n",
        "\n",
        "rf = Pipeline(steps=[\n",
        "  ('scaler', StandardScaler()),\n",
        "  (\"rf\", RandomForestRegressor()),\n",
        "])\n",
        "\n",
        "rf = rf.fit(X_train, y_train)\n",
        "\n",
        "print(\"Variance explanation R^2 = {}\".format(round(rf.score(X, y),2)))\n",
        "y_pred = rf.predict(X_test)\n",
        "\n",
        "print(\"Mean squared error: %.2f\" % mean_squared_error(y_test, y_pred))\n",
        "\n"
      ]
    },
    {
      "cell_type": "markdown",
      "metadata": {},
      "source": [
        "Tiene mejor rendimiento el random forest, ya que es capaz de predecir el modelo con una precision mayor que el otro ya que el R^2 es mayor"
      ]
    },
    {
      "cell_type": "markdown",
      "metadata": {
        "id": "DIupTYHLUd4I"
      },
      "source": [
        "## Ejercicio 4 — Clasificación sencilla (2 puntos)\n",
        "\n",
        "Crea una nueva variable binaria que indique si el IMC está dentro del rango saludable.\n",
        "\n",
        "a) (0.25 pts) Crea una nueva columna bmiHealthy donde el valor sea 1 si bmi está entre 18.5 y 24.9, y 0 en caso contrario."
      ]
    },
    {
      "cell_type": "code",
      "execution_count": 63,
      "metadata": {
        "id": "c95n3xjoUhbk"
      },
      "outputs": [
        {
          "data": {
            "text/html": [
              "<div>\n",
              "<style scoped>\n",
              "    .dataframe tbody tr th:only-of-type {\n",
              "        vertical-align: middle;\n",
              "    }\n",
              "\n",
              "    .dataframe tbody tr th {\n",
              "        vertical-align: top;\n",
              "    }\n",
              "\n",
              "    .dataframe thead th {\n",
              "        text-align: right;\n",
              "    }\n",
              "</style>\n",
              "<table border=\"1\" class=\"dataframe\">\n",
              "  <thead>\n",
              "    <tr style=\"text-align: right;\">\n",
              "      <th></th>\n",
              "      <th>Fat_Percentage</th>\n",
              "      <th>Calories</th>\n",
              "      <th>protein_per_kg</th>\n",
              "      <th>lean_mass_kg</th>\n",
              "      <th>BMI</th>\n",
              "      <th>bmiHealthy</th>\n",
              "    </tr>\n",
              "  </thead>\n",
              "  <tbody>\n",
              "    <tr>\n",
              "      <th>0</th>\n",
              "      <td>26.800377</td>\n",
              "      <td>1806.0</td>\n",
              "      <td>1.624789</td>\n",
              "      <td>47.777394</td>\n",
              "      <td>24.87</td>\n",
              "      <td>1</td>\n",
              "    </tr>\n",
              "    <tr>\n",
              "      <th>1</th>\n",
              "      <td>27.655021</td>\n",
              "      <td>1577.0</td>\n",
              "      <td>1.514093</td>\n",
              "      <td>40.809803</td>\n",
              "      <td>23.48</td>\n",
              "      <td>1</td>\n",
              "    </tr>\n",
              "    <tr>\n",
              "      <th>2</th>\n",
              "      <td>24.320821</td>\n",
              "      <td>1608.0</td>\n",
              "      <td>1.663445</td>\n",
              "      <td>44.635580</td>\n",
              "      <td>21.15</td>\n",
              "      <td>1</td>\n",
              "    </tr>\n",
              "    <tr>\n",
              "      <th>3</th>\n",
              "      <td>32.813572</td>\n",
              "      <td>2657.0</td>\n",
              "      <td>0.862017</td>\n",
              "      <td>63.007432</td>\n",
              "      <td>32.45</td>\n",
              "      <td>0</td>\n",
              "    </tr>\n",
              "    <tr>\n",
              "      <th>4</th>\n",
              "      <td>17.307319</td>\n",
              "      <td>1470.0</td>\n",
              "      <td>2.538153</td>\n",
              "      <td>43.347504</td>\n",
              "      <td>14.83</td>\n",
              "      <td>0</td>\n",
              "    </tr>\n",
              "    <tr>\n",
              "      <th>...</th>\n",
              "      <td>...</td>\n",
              "      <td>...</td>\n",
              "      <td>...</td>\n",
              "      <td>...</td>\n",
              "      <td>...</td>\n",
              "      <td>...</td>\n",
              "    </tr>\n",
              "    <tr>\n",
              "      <th>19995</th>\n",
              "      <td>27.505498</td>\n",
              "      <td>2627.0</td>\n",
              "      <td>0.954837</td>\n",
              "      <td>71.269345</td>\n",
              "      <td>27.23</td>\n",
              "      <td>0</td>\n",
              "    </tr>\n",
              "    <tr>\n",
              "      <th>19996</th>\n",
              "      <td>26.180562</td>\n",
              "      <td>2477.0</td>\n",
              "      <td>0.689060</td>\n",
              "      <td>65.049689</td>\n",
              "      <td>25.20</td>\n",
              "      <td>0</td>\n",
              "    </tr>\n",
              "    <tr>\n",
              "      <th>19997</th>\n",
              "      <td>23.331802</td>\n",
              "      <td>1425.0</td>\n",
              "      <td>2.105844</td>\n",
              "      <td>35.420708</td>\n",
              "      <td>16.57</td>\n",
              "      <td>0</td>\n",
              "    </tr>\n",
              "    <tr>\n",
              "      <th>19998</th>\n",
              "      <td>18.985868</td>\n",
              "      <td>1276.0</td>\n",
              "      <td>2.190745</td>\n",
              "      <td>35.889260</td>\n",
              "      <td>16.88</td>\n",
              "      <td>0</td>\n",
              "    </tr>\n",
              "    <tr>\n",
              "      <th>19999</th>\n",
              "      <td>24.435892</td>\n",
              "      <td>1666.0</td>\n",
              "      <td>1.494968</td>\n",
              "      <td>44.303237</td>\n",
              "      <td>22.62</td>\n",
              "      <td>1</td>\n",
              "    </tr>\n",
              "  </tbody>\n",
              "</table>\n",
              "<p>19997 rows × 6 columns</p>\n",
              "</div>"
            ],
            "text/plain": [
              "       Fat_Percentage  Calories  protein_per_kg  lean_mass_kg    BMI  \\\n",
              "0           26.800377    1806.0        1.624789     47.777394  24.87   \n",
              "1           27.655021    1577.0        1.514093     40.809803  23.48   \n",
              "2           24.320821    1608.0        1.663445     44.635580  21.15   \n",
              "3           32.813572    2657.0        0.862017     63.007432  32.45   \n",
              "4           17.307319    1470.0        2.538153     43.347504  14.83   \n",
              "...               ...       ...             ...           ...    ...   \n",
              "19995       27.505498    2627.0        0.954837     71.269345  27.23   \n",
              "19996       26.180562    2477.0        0.689060     65.049689  25.20   \n",
              "19997       23.331802    1425.0        2.105844     35.420708  16.57   \n",
              "19998       18.985868    1276.0        2.190745     35.889260  16.88   \n",
              "19999       24.435892    1666.0        1.494968     44.303237  22.62   \n",
              "\n",
              "       bmiHealthy  \n",
              "0               1  \n",
              "1               1  \n",
              "2               1  \n",
              "3               0  \n",
              "4               0  \n",
              "...           ...  \n",
              "19995           0  \n",
              "19996           0  \n",
              "19997           0  \n",
              "19998           0  \n",
              "19999           1  \n",
              "\n",
              "[19997 rows x 6 columns]"
            ]
          },
          "execution_count": 63,
          "metadata": {},
          "output_type": "execute_result"
        }
      ],
      "source": [
        "def bmiHealthy(bmi):\n",
        "    if 18.5<bmi<24.9:\n",
        "        return 1\n",
        "    else:\n",
        "        return 0\n",
        "    \n",
        "DatosNuevos = pd.DataFrame(data=df[['Fat_Percentage', 'Calories', 'protein_per_kg', 'lean_mass_kg', 'BMI']],\n",
        "                 columns=['Fat_Percentage', 'Calories', 'protein_per_kg', 'lean_mass_kg', 'BMI'])\n",
        "\n",
        "DatosNuevos[\"bmiHealthy\"] = DatosNuevos[\"BMI\"].apply(bmiHealthy)\n",
        "\n",
        "DatosNuevos\n",
        "\n"
      ]
    },
    {
      "cell_type": "markdown",
      "metadata": {
        "id": "F65J5M78Uhus"
      },
      "source": [
        "b) (0.75 pts) Entrena un modelo de regresión logística (LogisticRegression) para predecir bmiHealthy usando algunas variables de estilo de vida (por ejemplo sleepHours, activityLevel, calories)."
      ]
    },
    {
      "cell_type": "code",
      "execution_count": 68,
      "metadata": {
        "id": "L0bX3dbvUjpC"
      },
      "outputs": [
        {
          "name": "stderr",
          "output_type": "stream",
          "text": [
            "c:\\Users\\marta\\anaconda3\\Lib\\site-packages\\sklearn\\utils\\validation.py:1339: DataConversionWarning:\n",
            "\n",
            "A column-vector y was passed when a 1d array was expected. Please change the shape of y to (n_samples, ), for example using ravel().\n",
            "\n"
          ]
        }
      ],
      "source": [
        "DatosNuevos.dropna()\n",
        "X1 = pd.DataFrame(data=DatosNuevos[['Fat_Percentage', 'Calories', 'protein_per_kg', 'lean_mass_kg']],\n",
        "                 columns=['Fat_Percentage', 'Calories', 'protein_per_kg', 'lean_mass_kg'])\n",
        "y1 = pd.DataFrame(data = DatosNuevos[['bmiHealthy']], columns = ['bmiHealthy'])\n",
        "\n",
        "X_train, X_test, y_train, y_test = train_test_split(X1, y1, test_size = 0.2, random_state = 123)\n",
        "\n",
        "clf_log = Pipeline(steps=[\n",
        "    ('scaler', StandardScaler()),\n",
        "    (\"glm\", LogisticRegression(max_iter=10000, tol=0.1)),\n",
        "])\n",
        "\n",
        "\n",
        "clf_log.fit(X_train, y_train)\n",
        "\n",
        "predictions = clf_log.predict(X_test)"
      ]
    },
    {
      "cell_type": "markdown",
      "metadata": {
        "id": "t2zVo1tRUj9o"
      },
      "source": [
        "c) (0.25 pts) Calcula la exactitud (accuracy) del modelo y muestra la matriz de confusión.\n"
      ]
    },
    {
      "cell_type": "code",
      "execution_count": 70,
      "metadata": {
        "id": "D3q0Hzu_UmT5"
      },
      "outputs": [
        {
          "data": {
            "text/plain": [
              "<sklearn.metrics._plot.confusion_matrix.ConfusionMatrixDisplay at 0x137f6ffde20>"
            ]
          },
          "execution_count": 70,
          "metadata": {},
          "output_type": "execute_result"
        },
        {
          "data": {
            "image/png": "[encoded data removed]",
            "text/plain": [
              "<Figure size 640x480 with 2 Axes>"
            ]
          },
          "metadata": {},
          "output_type": "display_data"
        }
      ],
      "source": [
        "\n",
        "# Calcular la matriz de confusión\n",
        "cm = confusion_matrix(y_test, predictions)\n",
        "\n",
        "# Mostrarla de manera más visual\n",
        "disp = ConfusionMatrixDisplay(confusion_matrix=cm,\n",
        "                              display_labels=clf_log.classes_)\n",
        "disp.plot(cmap='Blues')\n"
      ]
    },
    {
      "cell_type": "markdown",
      "metadata": {
        "id": "H8MWudWBUngY"
      },
      "source": [
        "d) (0.75 pts) Explica qué variable parece influir más según el modelo."
      ]
    },
    {
      "cell_type": "code",
      "execution_count": 69,
      "metadata": {
        "id": "qKdONBvPU1Pn"
      },
      "outputs": [
        {
          "name": "stdout",
          "output_type": "stream",
          "text": [
            "Fat_Percentage   -0.436219\n",
            "Calories         -0.308773\n",
            "lean_mass_kg     -0.215549\n",
            "protein_per_kg    0.027235\n",
            "dtype: float64\n"
          ]
        }
      ],
      "source": [
        "\n",
        "coefs = clf_log.named_steps['glm'].coef_[0]\n",
        "feature_importance = pd.Series(coefs, index=X1.columns).sort_values(key=abs, ascending=False)\n",
        "print(feature_importance)\n"
      ]
    },
    {
      "cell_type": "markdown",
      "metadata": {},
      "source": [
        "La variable que mas parece influenciar el modelo es Fat_percentage de manera negativa, es decir, cuanto más Fat_percentage tenga una persona, menor es la posibilidad de que tenga un bmiHealthy"
      ]
    },
    {
      "cell_type": "markdown",
      "metadata": {
        "id": "dnuHNl1HU1sV"
      },
      "source": [
        "## Ejercicio 5 — Conclusión (1 punto)\n",
        "\n",
        "En un máximo de 300 palabras, resume:\n",
        "\n",
        "*   Qué hábitos parecen tener mayor relación con el estado de salud.\n",
        "\n",
        "*   Qué modelo fue más eficaz y por qué.\n",
        "\n",
        "*   Qué podrías mejorar si tuvieras más tiempo o datos.\n",
        "\n"
      ]
    },
    {
      "cell_type": "markdown",
      "metadata": {},
      "source": [
        "Parece ser que los datos que mas influencia tienen sobre el estado de salud son fat_percentage, calories, protein_per_kg, lean_mass_kg. Todo ello parece relacionado con los alimentos que ingiere una persona y la cantidad de grasas que estos contienen"
      ]
    },
    {
      "cell_type": "markdown",
      "metadata": {},
      "source": [
        "El modelo mas eficaz es el ultimo realizado ya que no predice el bmi completo, simplemente es capaz de predecir si una persona tienen el bmi en unos varemos sanos. Por lo tanto es mucho mas eficaz que el resto"
      ]
    },
    {
      "cell_type": "markdown",
      "metadata": {},
      "source": [
        "Si tuviera mas tiempo, un ordenador mas potente o unos datos mejores seria capaz de crear un modelo que tenga en cuenta todas las columnas y no unicamente aquellas que se relacionan de una manera mas directa. "
      ]
    },
    {
      "cell_type": "markdown",
      "metadata": {},
      "source": []
    }
  ],
  "metadata": {
    "colab": {
      "provenance": []
    },
    "kernelspec": {
      "display_name": "base",
      "language": "python",
      "name": "python3"
    },
    "language_info": {
      "codemirror_mode": {
        "name": "ipython",
        "version": 3
      },
      "file_extension": ".py",
      "mimetype": "text/x-python",
      "name": "python",
      "nbconvert_exporter": "python",
      "pygments_lexer": "ipython3",
      "version": "3.12.7"
    }
  },
  "nbformat": 4,
  "nbformat_minor": 0
}
